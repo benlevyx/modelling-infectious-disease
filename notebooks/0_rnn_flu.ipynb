{
 "cells": [
  {
   "cell_type": "code",
   "execution_count": 2,
   "metadata": {
    "ExecuteTime": {
     "end_time": "2020-05-04T19:23:37.149626Z",
     "start_time": "2020-05-04T19:23:37.071776Z"
    }
   },
   "outputs": [
    {
     "name": "stdout",
     "output_type": "stream",
     "text": [
      "The autoreload extension is already loaded. To reload it, use:\n",
      "  %reload_ext autoreload\n"
     ]
    }
   ],
   "source": [
    "import re\n",
    "from tqdm.notebook import tqdm\n",
    "\n",
    "from IPython.display import display\n",
    "\n",
    "import pandas as pd\n",
    "import numpy as np\n",
    "import matplotlib.pyplot as plt\n",
    "from sklearn.model_selection import train_test_split\n",
    "\n",
    "import tensorflow as tf\n",
    "from tensorflow.keras import layers\n",
    "from tensorflow.keras.preprocessing.sequence import pad_sequences\n",
    "\n",
    "from covid_flu import config, utils, time_series, plotting\n",
    "\n",
    "%load_ext autoreload\n",
    "%autoreload 2\n",
    "%matplotlib inline"
   ]
  },
  {
   "cell_type": "code",
   "execution_count": 3,
   "metadata": {
    "ExecuteTime": {
     "end_time": "2020-05-04T19:23:38.514196Z",
     "start_time": "2020-05-04T19:23:38.224337Z"
    }
   },
   "outputs": [
    {
     "data": {
      "text/html": [
       "<div>\n",
       "<style scoped>\n",
       "    .dataframe tbody tr th:only-of-type {\n",
       "        vertical-align: middle;\n",
       "    }\n",
       "\n",
       "    .dataframe tbody tr th {\n",
       "        vertical-align: top;\n",
       "    }\n",
       "\n",
       "    .dataframe thead th {\n",
       "        text-align: right;\n",
       "    }\n",
       "</style>\n",
       "<table border=\"1\" class=\"dataframe\">\n",
       "  <thead>\n",
       "    <tr style=\"text-align: right;\">\n",
       "      <th></th>\n",
       "      <th>time</th>\n",
       "      <th>wili</th>\n",
       "      <th>state</th>\n",
       "    </tr>\n",
       "  </thead>\n",
       "  <tbody>\n",
       "    <tr>\n",
       "      <th>0</th>\n",
       "      <td>2010-40</td>\n",
       "      <td>2.13477</td>\n",
       "      <td>Alabama</td>\n",
       "    </tr>\n",
       "    <tr>\n",
       "      <th>1</th>\n",
       "      <td>2010-41</td>\n",
       "      <td>2.05999</td>\n",
       "      <td>Alabama</td>\n",
       "    </tr>\n",
       "    <tr>\n",
       "      <th>2</th>\n",
       "      <td>2010-42</td>\n",
       "      <td>1.94224</td>\n",
       "      <td>Alabama</td>\n",
       "    </tr>\n",
       "    <tr>\n",
       "      <th>3</th>\n",
       "      <td>2010-43</td>\n",
       "      <td>2.27650</td>\n",
       "      <td>Alabama</td>\n",
       "    </tr>\n",
       "    <tr>\n",
       "      <th>4</th>\n",
       "      <td>2010-44</td>\n",
       "      <td>2.83371</td>\n",
       "      <td>Alabama</td>\n",
       "    </tr>\n",
       "  </tbody>\n",
       "</table>\n",
       "</div>"
      ],
      "text/plain": [
       "      time     wili    state\n",
       "0  2010-40  2.13477  Alabama\n",
       "1  2010-41  2.05999  Alabama\n",
       "2  2010-42  1.94224  Alabama\n",
       "3  2010-43  2.27650  Alabama\n",
       "4  2010-44  2.83371  Alabama"
      ]
     },
     "metadata": {},
     "output_type": "display_data"
    },
    {
     "data": {
      "text/html": [
       "<div>\n",
       "<style scoped>\n",
       "    .dataframe tbody tr th:only-of-type {\n",
       "        vertical-align: middle;\n",
       "    }\n",
       "\n",
       "    .dataframe tbody tr th {\n",
       "        vertical-align: top;\n",
       "    }\n",
       "\n",
       "    .dataframe thead th {\n",
       "        text-align: right;\n",
       "    }\n",
       "</style>\n",
       "<table border=\"1\" class=\"dataframe\">\n",
       "  <thead>\n",
       "    <tr style=\"text-align: right;\">\n",
       "      <th></th>\n",
       "      <th>time</th>\n",
       "      <th>wili</th>\n",
       "      <th>state</th>\n",
       "    </tr>\n",
       "  </thead>\n",
       "  <tbody>\n",
       "    <tr>\n",
       "      <th>456</th>\n",
       "      <td>2019-27</td>\n",
       "      <td>0.280899</td>\n",
       "      <td>Wyoming</td>\n",
       "    </tr>\n",
       "    <tr>\n",
       "      <th>457</th>\n",
       "      <td>2019-28</td>\n",
       "      <td>0.166021</td>\n",
       "      <td>Wyoming</td>\n",
       "    </tr>\n",
       "    <tr>\n",
       "      <th>458</th>\n",
       "      <td>2019-29</td>\n",
       "      <td>0.000100</td>\n",
       "      <td>Wyoming</td>\n",
       "    </tr>\n",
       "    <tr>\n",
       "      <th>459</th>\n",
       "      <td>2019-30</td>\n",
       "      <td>0.000100</td>\n",
       "      <td>Wyoming</td>\n",
       "    </tr>\n",
       "    <tr>\n",
       "      <th>460</th>\n",
       "      <td>2019-31</td>\n",
       "      <td>0.000100</td>\n",
       "      <td>Wyoming</td>\n",
       "    </tr>\n",
       "  </tbody>\n",
       "</table>\n",
       "</div>"
      ],
      "text/plain": [
       "        time      wili    state\n",
       "456  2019-27  0.280899  Wyoming\n",
       "457  2019-28  0.166021  Wyoming\n",
       "458  2019-29  0.000100  Wyoming\n",
       "459  2019-30  0.000100  Wyoming\n",
       "460  2019-31  0.000100  Wyoming"
      ]
     },
     "metadata": {},
     "output_type": "display_data"
    }
   ],
   "source": [
    "df_flu = utils.load_flu_data()\n",
    "display(df_flu.head())\n",
    "display(df_flu.tail())"
   ]
  },
  {
   "cell_type": "markdown",
   "metadata": {},
   "source": [
    "## Simple RNN model: predicting `d` days from a fixed input length"
   ]
  },
  {
   "cell_type": "code",
   "execution_count": 5,
   "metadata": {
    "ExecuteTime": {
     "end_time": "2020-05-04T19:24:32.202040Z",
     "start_time": "2020-05-04T19:24:31.887022Z"
    }
   },
   "outputs": [],
   "source": [
    "ds_train, ds_test = time_series.prepare_data(df_flu['wili'].values, \n",
    "                                             df_flu['state'].values,\n",
    "                                             history_size=25, \n",
    "                                             target_size=1, \n",
    "                                             test_size=0.2)"
   ]
  },
  {
   "cell_type": "markdown",
   "metadata": {},
   "source": [
    "### Constructing the RNN"
   ]
  },
  {
   "cell_type": "code",
   "execution_count": 12,
   "metadata": {
    "ExecuteTime": {
     "end_time": "2020-05-04T19:33:12.336800Z",
     "start_time": "2020-05-04T19:33:12.177024Z"
    }
   },
   "outputs": [],
   "source": [
    "def make_simple_lstm(history_length=25, target_length=1, hidden_size=8, pre_output_dense_size=None):\n",
    "    simple_lstm = tf.keras.models.Sequential()\n",
    "    simple_lstm.add(layers.LSTM(hidden_size, input_shape=(history_length,1)))\n",
    "    if pre_output_dense_size:\n",
    "        simple_lstm.add(layers.Dense(pre_output_dense_size, activation='relu'))\n",
    "    simple_lstm.add(layers.Dense(target_length))\n",
    "    \n",
    "    simple_lstm.compile(optimizer='adam', loss='mse')\n",
    "    return simple_lstm"
   ]
  },
  {
   "cell_type": "code",
   "execution_count": 11,
   "metadata": {
    "ExecuteTime": {
     "end_time": "2020-05-04T16:35:08.741850Z",
     "start_time": "2020-05-04T16:35:08.419401Z"
    }
   },
   "outputs": [],
   "source": [
    "simple_lstm = make_simple_lstm()"
   ]
  },
  {
   "cell_type": "code",
   "execution_count": 12,
   "metadata": {
    "ExecuteTime": {
     "end_time": "2020-05-04T16:35:08.872789Z",
     "start_time": "2020-05-04T16:35:08.814997Z"
    }
   },
   "outputs": [
    {
     "name": "stdout",
     "output_type": "stream",
     "text": [
      "Model: \"sequential_1\"\n",
      "_________________________________________________________________\n",
      "Layer (type)                 Output Shape              Param #   \n",
      "=================================================================\n",
      "lstm_1 (LSTM)                (None, 8)                 320       \n",
      "_________________________________________________________________\n",
      "dense_1 (Dense)              (None, 1)                 9         \n",
      "=================================================================\n",
      "Total params: 329\n",
      "Trainable params: 329\n",
      "Non-trainable params: 0\n",
      "_________________________________________________________________\n"
     ]
    }
   ],
   "source": [
    "simple_lstm.summary()"
   ]
  },
  {
   "cell_type": "code",
   "execution_count": 13,
   "metadata": {
    "ExecuteTime": {
     "end_time": "2020-05-04T16:35:40.534564Z",
     "start_time": "2020-05-04T16:35:09.952866Z"
    }
   },
   "outputs": [
    {
     "name": "stdout",
     "output_type": "stream",
     "text": [
      "Train for 72 steps, validate for 18 steps\n",
      "Epoch 1/20\n",
      "72/72 [==============================] - 4s 51ms/step - loss: 5.9038 - val_loss: 3.2056\n",
      "Epoch 2/20\n",
      "72/72 [==============================] - 1s 17ms/step - loss: 3.6696 - val_loss: 2.1142\n",
      "Epoch 3/20\n",
      "72/72 [==============================] - 1s 17ms/step - loss: 2.7536 - val_loss: 1.6686\n",
      "Epoch 4/20\n",
      "72/72 [==============================] - 2s 22ms/step - loss: 2.2634 - val_loss: 1.3803\n",
      "Epoch 5/20\n",
      "72/72 [==============================] - 1s 17ms/step - loss: 1.9118 - val_loss: 1.1535\n",
      "Epoch 6/20\n",
      "72/72 [==============================] - 1s 19ms/step - loss: 1.6292 - val_loss: 0.9659\n",
      "Epoch 7/20\n",
      "72/72 [==============================] - 1s 18ms/step - loss: 1.3518 - val_loss: 0.8222\n",
      "Epoch 8/20\n",
      "72/72 [==============================] - 1s 17ms/step - loss: 1.1709 - val_loss: 0.7220\n",
      "Epoch 9/20\n",
      "72/72 [==============================] - 2s 21ms/step - loss: 1.0311 - val_loss: 0.6561\n",
      "Epoch 10/20\n",
      "72/72 [==============================] - 1s 17ms/step - loss: 0.9454 - val_loss: 0.5998\n",
      "Epoch 11/20\n",
      "72/72 [==============================] - 1s 17ms/step - loss: 0.8600 - val_loss: 0.5596\n",
      "Epoch 12/20\n",
      "72/72 [==============================] - 1s 17ms/step - loss: 0.7971 - val_loss: 0.5257\n",
      "Epoch 13/20\n",
      "72/72 [==============================] - 1s 21ms/step - loss: 0.7490 - val_loss: 0.4988\n",
      "Epoch 14/20\n",
      "72/72 [==============================] - 1s 21ms/step - loss: 0.7102 - val_loss: 0.4768\n",
      "Epoch 15/20\n",
      "72/72 [==============================] - 1s 20ms/step - loss: 0.6689 - val_loss: 0.4580\n",
      "Epoch 16/20\n",
      "72/72 [==============================] - 1s 18ms/step - loss: 0.6421 - val_loss: 0.4451\n",
      "Epoch 17/20\n",
      "72/72 [==============================] - 2s 23ms/step - loss: 0.6155 - val_loss: 0.4307\n",
      "Epoch 18/20\n",
      "72/72 [==============================] - 2s 23ms/step - loss: 0.5932 - val_loss: 0.4208\n",
      "Epoch 19/20\n",
      "72/72 [==============================] - 2s 23ms/step - loss: 0.5824 - val_loss: 0.4109\n",
      "Epoch 20/20\n",
      "72/72 [==============================] - 2s 21ms/step - loss: 0.5643 - val_loss: 0.4009\n"
     ]
    }
   ],
   "source": [
    "history = simple_lstm.fit(ds_train, epochs=EPOCHS, validation_data=ds_test)"
   ]
  },
  {
   "cell_type": "code",
   "execution_count": 14,
   "metadata": {
    "ExecuteTime": {
     "end_time": "2020-05-04T16:36:29.636100Z",
     "start_time": "2020-05-04T16:36:28.976083Z"
    }
   },
   "outputs": [
    {
     "data": {
      "image/png": "[encoded data removed]",
      "text/plain": [
       "<Figure size 432x288 with 1 Axes>"
      ]
     },
     "metadata": {
      "needs_background": "light"
     },
     "output_type": "display_data"
    }
   ],
   "source": [
    "plotting.plot_history(history)"
   ]
  },
  {
   "cell_type": "code",
   "execution_count": 16,
   "metadata": {
    "ExecuteTime": {
     "end_time": "2020-05-04T16:39:35.694352Z",
     "start_time": "2020-05-04T16:39:35.395857Z"
    }
   },
   "outputs": [
    {
     "data": {
      "image/png": "[encoded data removed]",
      "text/plain": [
       "<Figure size 432x288 with 1 Axes>"
      ]
     },
     "metadata": {
      "needs_background": "light"
     },
     "output_type": "display_data"
    }
   ],
   "source": [
    "plotting.plot_model_pred(simple_lstm, ds_test)"
   ]
  },
  {
   "cell_type": "markdown",
   "metadata": {},
   "source": [
    "## Evaluating with walk-forward validation"
   ]
  },
  {
   "cell_type": "code",
   "execution_count": 7,
   "metadata": {
    "ExecuteTime": {
     "end_time": "2020-05-04T19:24:38.373881Z",
     "start_time": "2020-05-04T19:24:38.206144Z"
    }
   },
   "outputs": [],
   "source": [
    "TEST_SIZE = 0.2\n",
    "X_train = []\n",
    "X_test = []\n",
    "for state in df_flu['state'].unique():\n",
    "    ts = df_flu.loc[df_flu['state'] == state, 'wili'].values\n",
    "    len_test = int(np.ceil(len(ts) * TEST_SIZE))\n",
    "    X_test.append(ts[-len_test:])\n",
    "    X_train.append(ts[:-len_test])"
   ]
  },
  {
   "cell_type": "code",
   "execution_count": 48,
   "metadata": {
    "ExecuteTime": {
     "end_time": "2020-05-04T18:07:25.528485Z",
     "start_time": "2020-05-04T18:07:22.104219Z"
    }
   },
   "outputs": [
    {
     "data": {
      "text/plain": [
       "4.116653438093872"
      ]
     },
     "execution_count": 48,
     "metadata": {},
     "output_type": "execute_result"
    }
   ],
   "source": [
    "time_series.walk_forward_val_multiple(simple_lstm, X_test,\n",
    "                                      history_size=25,\n",
    "                                      target_size=1)"
   ]
  },
  {
   "cell_type": "markdown",
   "metadata": {},
   "source": [
    "## Trying to predict a longer time horizon"
   ]
  },
  {
   "cell_type": "code",
   "execution_count": 21,
   "metadata": {
    "ExecuteTime": {
     "end_time": "2020-05-04T16:40:21.260815Z",
     "start_time": "2020-05-04T16:40:20.801438Z"
    }
   },
   "outputs": [
    {
     "name": "stdout",
     "output_type": "stream",
     "text": [
      "Model: \"sequential_3\"\n",
      "_________________________________________________________________\n",
      "Layer (type)                 Output Shape              Param #   \n",
      "=================================================================\n",
      "lstm_3 (LSTM)                (None, 8)                 320       \n",
      "_________________________________________________________________\n",
      "dense_3 (Dense)              (None, 5)                 45        \n",
      "=================================================================\n",
      "Total params: 365\n",
      "Trainable params: 365\n",
      "Non-trainable params: 0\n",
      "_________________________________________________________________\n"
     ]
    }
   ],
   "source": [
    "history_size = 50\n",
    "target_size = 5\n",
    "ds_train, ds_test = time_series.prepare_data(df_flu['wili'].values,\n",
    "                                             df_flu['state'].values,\n",
    "                                             history_size=history_size,\n",
    "                                             target_size=target_size)\n",
    "lstm2 = make_simple_lstm(history_length=history_size, target_length=target_size)\n",
    "lstm2.summary()"
   ]
  },
  {
   "cell_type": "code",
   "execution_count": 22,
   "metadata": {
    "ExecuteTime": {
     "end_time": "2020-05-04T16:41:23.383446Z",
     "start_time": "2020-05-04T16:40:21.377315Z"
    }
   },
   "outputs": [
    {
     "name": "stdout",
     "output_type": "stream",
     "text": [
      "Train for 67 steps, validate for 17 steps\n",
      "Epoch 1/25\n",
      "67/67 [==============================] - 5s 75ms/step - loss: 5.3580 - val_loss: 3.2873\n",
      "Epoch 2/25\n",
      "67/67 [==============================] - 2s 35ms/step - loss: 4.0885 - val_loss: 2.4401\n",
      "Epoch 3/25\n",
      "67/67 [==============================] - 3s 38ms/step - loss: 3.1022 - val_loss: 1.8469\n",
      "Epoch 4/25\n",
      "67/67 [==============================] - 2s 36ms/step - loss: 2.4107 - val_loss: 1.5145\n",
      "Epoch 5/25\n",
      "67/67 [==============================] - 2s 36ms/step - loss: 2.0218 - val_loss: 1.3287\n",
      "Epoch 6/25\n",
      "67/67 [==============================] - 3s 40ms/step - loss: 1.8064 - val_loss: 1.2293\n",
      "Epoch 7/25\n",
      "67/67 [==============================] - 3s 38ms/step - loss: 1.6552 - val_loss: 1.1484\n",
      "Epoch 8/25\n",
      "67/67 [==============================] - 3s 37ms/step - loss: 1.5478 - val_loss: 1.1017\n",
      "Epoch 9/25\n",
      "67/67 [==============================] - 2s 36ms/step - loss: 1.4693 - val_loss: 1.0573\n",
      "Epoch 10/25\n",
      "67/67 [==============================] - 2s 34ms/step - loss: 1.4156 - val_loss: 1.0254\n",
      "Epoch 11/25\n",
      "67/67 [==============================] - 2s 32ms/step - loss: 1.3568 - val_loss: 0.9977\n",
      "Epoch 12/25\n",
      "67/67 [==============================] - 2s 32ms/step - loss: 1.3164 - val_loss: 0.9879\n",
      "Epoch 13/25\n",
      "67/67 [==============================] - 2s 32ms/step - loss: 1.2822 - val_loss: 0.9629\n",
      "Epoch 14/25\n",
      "67/67 [==============================] - 3s 42ms/step - loss: 1.2584 - val_loss: 0.9598\n",
      "Epoch 15/25\n",
      "67/67 [==============================] - 3s 41ms/step - loss: 1.2388 - val_loss: 0.9409\n",
      "Epoch 16/25\n",
      "67/67 [==============================] - 2s 34ms/step - loss: 1.2116 - val_loss: 0.9355\n",
      "Epoch 17/25\n",
      "67/67 [==============================] - 2s 33ms/step - loss: 1.1914 - val_loss: 0.9294\n",
      "Epoch 18/25\n",
      "67/67 [==============================] - 2s 32ms/step - loss: 1.1781 - val_loss: 0.9218\n",
      "Epoch 19/25\n",
      "67/67 [==============================] - 2s 30ms/step - loss: 1.1626 - val_loss: 0.9144\n",
      "Epoch 20/25\n",
      "67/67 [==============================] - 2s 35ms/step - loss: 1.1491 - val_loss: 0.9027\n",
      "Epoch 21/25\n",
      "67/67 [==============================] - 2s 35ms/step - loss: 1.1350 - val_loss: 0.8893\n",
      "Epoch 22/25\n",
      "67/67 [==============================] - 2s 33ms/step - loss: 1.1109 - val_loss: 0.8627\n",
      "Epoch 23/25\n",
      "67/67 [==============================] - 2s 34ms/step - loss: 1.0882 - val_loss: 0.8361\n",
      "Epoch 24/25\n",
      "67/67 [==============================] - 2s 35ms/step - loss: 1.0698 - val_loss: 0.8228\n",
      "Epoch 25/25\n",
      "67/67 [==============================] - 3s 39ms/step - loss: 1.0570 - val_loss: 0.8324\n"
     ]
    }
   ],
   "source": [
    "history2 = lstm2.fit(ds_train, epochs=EPOCHS, validation_data=ds_test)"
   ]
  },
  {
   "cell_type": "code",
   "execution_count": 23,
   "metadata": {
    "ExecuteTime": {
     "end_time": "2020-05-04T16:41:23.786219Z",
     "start_time": "2020-05-04T16:41:23.485739Z"
    }
   },
   "outputs": [
    {
     "data": {
      "image/png": "[encoded data removed]",
      "text/plain": [
       "<Figure size 432x288 with 1 Axes>"
      ]
     },
     "metadata": {
      "needs_background": "light"
     },
     "output_type": "display_data"
    }
   ],
   "source": [
    "plotting.plot_history(history2)"
   ]
  },
  {
   "cell_type": "code",
   "execution_count": 24,
   "metadata": {
    "ExecuteTime": {
     "end_time": "2020-05-04T16:41:24.842897Z",
     "start_time": "2020-05-04T16:41:23.876164Z"
    }
   },
   "outputs": [
    {
     "data": {
      "image/png": "[encoded data removed]",
      "text/plain": [
       "<Figure size 432x288 with 1 Axes>"
      ]
     },
     "metadata": {
      "needs_background": "light"
     },
     "output_type": "display_data"
    }
   ],
   "source": [
    "plotting.plot_model_pred(lstm2, ds_test)"
   ]
  },
  {
   "cell_type": "code",
   "execution_count": 50,
   "metadata": {
    "ExecuteTime": {
     "end_time": "2020-05-04T18:10:01.816462Z",
     "start_time": "2020-05-04T18:09:58.659708Z"
    }
   },
   "outputs": [
    {
     "data": {
      "text/plain": [
       "1.0306867173545382"
      ]
     },
     "execution_count": 50,
     "metadata": {},
     "output_type": "execute_result"
    }
   ],
   "source": [
    "time_series.walk_forward_val_multiple(lstm2, X_test,\n",
    "                                      history_size=50,\n",
    "                                      target_size=5)"
   ]
  },
  {
   "cell_type": "markdown",
   "metadata": {},
   "source": [
    "## Adding a pre-output dense layer and more hidden nodes"
   ]
  },
  {
   "cell_type": "code",
   "execution_count": 25,
   "metadata": {
    "ExecuteTime": {
     "end_time": "2020-05-04T16:41:26.165538Z",
     "start_time": "2020-05-04T16:41:25.087009Z"
    }
   },
   "outputs": [
    {
     "name": "stdout",
     "output_type": "stream",
     "text": [
      "Model: \"sequential_4\"\n",
      "_________________________________________________________________\n",
      "Layer (type)                 Output Shape              Param #   \n",
      "=================================================================\n",
      "lstm_4 (LSTM)                (None, 16)                1152      \n",
      "_________________________________________________________________\n",
      "dense_4 (Dense)              (None, 32)                544       \n",
      "_________________________________________________________________\n",
      "dense_5 (Dense)              (None, 5)                 165       \n",
      "=================================================================\n",
      "Total params: 1,861\n",
      "Trainable params: 1,861\n",
      "Non-trainable params: 0\n",
      "_________________________________________________________________\n"
     ]
    }
   ],
   "source": [
    "history_size = 50\n",
    "target_size = 5\n",
    "hidden_size = 16\n",
    "pre_output_dense_size = 32\n",
    "lstm3 = make_simple_lstm(history_length=history_size,\n",
    "                         target_length=target_size,\n",
    "                         hidden_size=hidden_size,\n",
    "                         pre_output_dense_size=pre_output_dense_size)\n",
    "lstm3.summary()"
   ]
  },
  {
   "cell_type": "code",
   "execution_count": 26,
   "metadata": {
    "ExecuteTime": {
     "end_time": "2020-05-04T16:42:52.092860Z",
     "start_time": "2020-05-04T16:41:26.435830Z"
    }
   },
   "outputs": [
    {
     "name": "stdout",
     "output_type": "stream",
     "text": [
      "Train for 67 steps, validate for 17 steps\n",
      "Epoch 1/25\n",
      "67/67 [==============================] - 6s 83ms/step - loss: 4.6275 - val_loss: 1.9582\n",
      "Epoch 2/25\n",
      "67/67 [==============================] - 3s 40ms/step - loss: 2.0521 - val_loss: 1.2884\n",
      "Epoch 3/25\n",
      "67/67 [==============================] - 5s 68ms/step - loss: 1.3556 - val_loss: 1.0261\n",
      "Epoch 4/25\n",
      "67/67 [==============================] - 4s 59ms/step - loss: 1.1609 - val_loss: 0.9808\n",
      "Epoch 5/25\n",
      "67/67 [==============================] - 4s 59ms/step - loss: 1.1099 - val_loss: 0.9650\n",
      "Epoch 6/25\n",
      "67/67 [==============================] - 3s 51ms/step - loss: 1.0887 - val_loss: 0.9513\n",
      "Epoch 7/25\n",
      "67/67 [==============================] - 4s 60ms/step - loss: 1.0770 - val_loss: 0.9434\n",
      "Epoch 8/25\n",
      "67/67 [==============================] - 4s 52ms/step - loss: 1.0664 - val_loss: 0.8921\n",
      "Epoch 9/25\n",
      "67/67 [==============================] - 4s 58ms/step - loss: 1.0335 - val_loss: 0.8721\n",
      "Epoch 10/25\n",
      "67/67 [==============================] - 3s 48ms/step - loss: 0.9644 - val_loss: 0.8313\n",
      "Epoch 11/25\n",
      "67/67 [==============================] - 3s 42ms/step - loss: 0.9419 - val_loss: 0.7974\n",
      "Epoch 12/25\n",
      "67/67 [==============================] - 3s 51ms/step - loss: 0.9048 - val_loss: 0.7519\n",
      "Epoch 13/25\n",
      "67/67 [==============================] - 4s 52ms/step - loss: 0.8825 - val_loss: 0.7181\n",
      "Epoch 14/25\n",
      "67/67 [==============================] - 4s 56ms/step - loss: 0.8657 - val_loss: 0.7085\n",
      "Epoch 15/25\n",
      "67/67 [==============================] - 3s 49ms/step - loss: 0.8498 - val_loss: 0.6927\n",
      "Epoch 16/25\n",
      "67/67 [==============================] - 4s 54ms/step - loss: 0.8372 - val_loss: 0.6769\n",
      "Epoch 17/25\n",
      "67/67 [==============================] - 3s 45ms/step - loss: 0.8282 - val_loss: 0.6698\n",
      "Epoch 18/25\n",
      "67/67 [==============================] - 3s 42ms/step - loss: 0.8246 - val_loss: 0.6828\n",
      "Epoch 19/25\n",
      "67/67 [==============================] - 3s 42ms/step - loss: 0.8216 - val_loss: 0.6641\n",
      "Epoch 20/25\n",
      "67/67 [==============================] - 3s 43ms/step - loss: 0.8133 - val_loss: 0.6615\n",
      "Epoch 21/25\n",
      "67/67 [==============================] - 3s 43ms/step - loss: 0.8090 - val_loss: 0.6601\n",
      "Epoch 22/25\n",
      "67/67 [==============================] - 3s 40ms/step - loss: 0.8074 - val_loss: 0.6644\n",
      "Epoch 23/25\n",
      "67/67 [==============================] - 3s 45ms/step - loss: 0.8023 - val_loss: 0.6662\n",
      "Epoch 24/25\n",
      "67/67 [==============================] - 3s 51ms/step - loss: 0.7965 - val_loss: 0.6595\n",
      "Epoch 25/25\n",
      "67/67 [==============================] - 3s 38ms/step - loss: 0.8115 - val_loss: 0.6540\n"
     ]
    }
   ],
   "source": [
    "history3 = lstm3.fit(ds_train, epochs=EPOCHS, validation_data=ds_test)"
   ]
  },
  {
   "cell_type": "code",
   "execution_count": 27,
   "metadata": {
    "ExecuteTime": {
     "end_time": "2020-05-04T16:42:52.622088Z",
     "start_time": "2020-05-04T16:42:52.191551Z"
    }
   },
   "outputs": [
    {
     "data": {
      "image/png": "[encoded data removed]",
      "text/plain": [
       "<Figure size 432x288 with 1 Axes>"
      ]
     },
     "metadata": {
      "needs_background": "light"
     },
     "output_type": "display_data"
    }
   ],
   "source": [
    "plotting.plot_history(history3)"
   ]
  },
  {
   "cell_type": "code",
   "execution_count": 30,
   "metadata": {
    "ExecuteTime": {
     "end_time": "2020-05-04T16:43:13.865537Z",
     "start_time": "2020-05-04T16:43:13.012713Z"
    }
   },
   "outputs": [
    {
     "data": {
      "image/png": "[encoded data removed]",
      "text/plain": [
       "<Figure size 1296x432 with 3 Axes>"
      ]
     },
     "metadata": {
      "needs_background": "light"
     },
     "output_type": "display_data"
    }
   ],
   "source": [
    "fig, axs = plt.subplots(1, 3, figsize=(18, 6))\n",
    "for ax in axs:\n",
    "    plotting.plot_model_pred(lstm3, ds_test, ax=ax)"
   ]
  },
  {
   "cell_type": "code",
   "execution_count": 51,
   "metadata": {
    "ExecuteTime": {
     "end_time": "2020-05-04T18:10:39.575454Z",
     "start_time": "2020-05-04T18:10:36.702091Z"
    }
   },
   "outputs": [
    {
     "data": {
      "text/plain": [
       "0.8179771075758032"
      ]
     },
     "execution_count": 51,
     "metadata": {},
     "output_type": "execute_result"
    }
   ],
   "source": [
    "time_series.walk_forward_val_multiple(lstm3, X_test,\n",
    "                                      history_size=50,\n",
    "                                      target_size=5)"
   ]
  },
  {
   "cell_type": "markdown",
   "metadata": {},
   "source": [
    "## Okay cool that seems to work really welll. What if we play with the history and target window size some more?"
   ]
  },
  {
   "cell_type": "code",
   "execution_count": 33,
   "metadata": {
    "ExecuteTime": {
     "end_time": "2020-05-04T16:49:34.853194Z",
     "start_time": "2020-05-04T16:49:34.171850Z"
    }
   },
   "outputs": [
    {
     "name": "stdout",
     "output_type": "stream",
     "text": [
      "Model: \"sequential_6\"\n",
      "_________________________________________________________________\n",
      "Layer (type)                 Output Shape              Param #   \n",
      "=================================================================\n",
      "lstm_6 (LSTM)                (None, 16)                1152      \n",
      "_________________________________________________________________\n",
      "dense_8 (Dense)              (None, 32)                544       \n",
      "_________________________________________________________________\n",
      "dense_9 (Dense)              (None, 10)                330       \n",
      "=================================================================\n",
      "Total params: 2,026\n",
      "Trainable params: 2,026\n",
      "Non-trainable params: 0\n",
      "_________________________________________________________________\n"
     ]
    }
   ],
   "source": [
    "history_size = 25\n",
    "target_size = 10\n",
    "hidden_size = 16\n",
    "pre_output_size = 32\n",
    "\n",
    "ds_train, ds_test = time_series.prepare_data(df_flu['wili'].values,\n",
    "                                             df_flu['state'].values,\n",
    "                                             history_size=history_size,\n",
    "                                             target_size=target_size)\n",
    "lstm4 = make_simple_lstm(history_length=history_size,\n",
    "                         target_length=target_size,\n",
    "                         hidden_size=hidden_size,\n",
    "                         pre_output_dense_size=pre_output_dense_size)\n",
    "lstm4.summary()"
   ]
  },
  {
   "cell_type": "code",
   "execution_count": 34,
   "metadata": {
    "ExecuteTime": {
     "end_time": "2020-05-04T16:50:22.686939Z",
     "start_time": "2020-05-04T16:49:40.677479Z"
    }
   },
   "outputs": [
    {
     "name": "stdout",
     "output_type": "stream",
     "text": [
      "Train for 70 steps, validate for 18 steps\n",
      "Epoch 1/25\n",
      "70/70 [==============================] - 4s 54ms/step - loss: 4.3732 - val_loss: 2.1592\n",
      "Epoch 2/25\n",
      "70/70 [==============================] - 2s 23ms/step - loss: 2.3884 - val_loss: 1.6982\n",
      "Epoch 3/25\n",
      "70/70 [==============================] - 2s 22ms/step - loss: 1.9120 - val_loss: 1.5379\n",
      "Epoch 4/25\n",
      "70/70 [==============================] - 1s 20ms/step - loss: 1.7929 - val_loss: 1.4677\n",
      "Epoch 5/25\n",
      "70/70 [==============================] - 2s 33ms/step - loss: 1.7357 - val_loss: 1.4037\n",
      "Epoch 6/25\n",
      "70/70 [==============================] - 2s 26ms/step - loss: 1.7055 - val_loss: 1.3668\n",
      "Epoch 7/25\n",
      "70/70 [==============================] - 2s 22ms/step - loss: 1.6871 - val_loss: 1.3670\n",
      "Epoch 8/25\n",
      "70/70 [==============================] - 1s 20ms/step - loss: 1.6592 - val_loss: 1.3340\n",
      "Epoch 9/25\n",
      "70/70 [==============================] - 1s 20ms/step - loss: 1.6399 - val_loss: 1.3803\n",
      "Epoch 10/25\n",
      "70/70 [==============================] - 2s 26ms/step - loss: 1.6251 - val_loss: 1.3673\n",
      "Epoch 11/25\n",
      "70/70 [==============================] - 1s 20ms/step - loss: 1.6163 - val_loss: 1.3467\n",
      "Epoch 12/25\n",
      "70/70 [==============================] - 1s 21ms/step - loss: 1.6001 - val_loss: 1.3473\n",
      "Epoch 13/25\n",
      "70/70 [==============================] - 2s 22ms/step - loss: 1.5891 - val_loss: 1.3433\n",
      "Epoch 14/25\n",
      "70/70 [==============================] - 2s 22ms/step - loss: 1.5762 - val_loss: 1.3411\n",
      "Epoch 15/25\n",
      "70/70 [==============================] - 2s 23ms/step - loss: 1.5586 - val_loss: 1.3290\n",
      "Epoch 16/25\n",
      "70/70 [==============================] - 2s 30ms/step - loss: 1.5439 - val_loss: 1.2966\n",
      "Epoch 17/25\n",
      "70/70 [==============================] - 2s 24ms/step - loss: 1.5094 - val_loss: 1.2163\n",
      "Epoch 18/25\n",
      "70/70 [==============================] - 1s 20ms/step - loss: 1.4950 - val_loss: 1.2368\n",
      "Epoch 19/25\n",
      "70/70 [==============================] - 1s 21ms/step - loss: 1.4723 - val_loss: 1.2408\n",
      "Epoch 20/25\n",
      "70/70 [==============================] - 1s 21ms/step - loss: 1.4720 - val_loss: 1.2130\n",
      "Epoch 21/25\n",
      "70/70 [==============================] - 1s 21ms/step - loss: 1.4508 - val_loss: 1.1952\n",
      "Epoch 22/25\n",
      "70/70 [==============================] - 1s 21ms/step - loss: 1.4448 - val_loss: 1.1880\n",
      "Epoch 23/25\n",
      "70/70 [==============================] - 1s 20ms/step - loss: 1.4392 - val_loss: 1.1986\n",
      "Epoch 24/25\n",
      "70/70 [==============================] - 1s 21ms/step - loss: 1.4302 - val_loss: 1.2209\n",
      "Epoch 25/25\n",
      "70/70 [==============================] - 2s 24ms/step - loss: 1.4298 - val_loss: 1.1766\n"
     ]
    }
   ],
   "source": [
    "history4 = lstm4.fit(ds_train, validation_data=ds_test, epochs=EPOCHS)"
   ]
  },
  {
   "cell_type": "code",
   "execution_count": 35,
   "metadata": {
    "ExecuteTime": {
     "end_time": "2020-05-04T16:50:23.066903Z",
     "start_time": "2020-05-04T16:50:22.768583Z"
    }
   },
   "outputs": [
    {
     "data": {
      "image/png": "[encoded data removed]",
      "text/plain": [
       "<Figure size 432x288 with 1 Axes>"
      ]
     },
     "metadata": {
      "needs_background": "light"
     },
     "output_type": "display_data"
    }
   ],
   "source": [
    "plotting.plot_history(history4)"
   ]
  },
  {
   "cell_type": "code",
   "execution_count": 38,
   "metadata": {
    "ExecuteTime": {
     "end_time": "2020-05-04T16:52:54.563058Z",
     "start_time": "2020-05-04T16:52:53.809980Z"
    }
   },
   "outputs": [
    {
     "data": {
      "image/png": "[encoded data removed]",
      "text/plain": [
       "<Figure size 1296x432 with 3 Axes>"
      ]
     },
     "metadata": {
      "needs_background": "light"
     },
     "output_type": "display_data"
    }
   ],
   "source": [
    "plotting.plot_model_pred(lstm4, ds_test, n=3)"
   ]
  },
  {
   "cell_type": "code",
   "execution_count": 52,
   "metadata": {
    "ExecuteTime": {
     "end_time": "2020-05-04T18:11:10.027512Z",
     "start_time": "2020-05-04T18:11:07.189330Z"
    }
   },
   "outputs": [
    {
     "data": {
      "text/plain": [
       "1.1718771628481632"
      ]
     },
     "execution_count": 52,
     "metadata": {},
     "output_type": "execute_result"
    }
   ],
   "source": [
    "time_series.walk_forward_val_multiple(lstm4, X_test,\n",
    "                                      history_size=25,\n",
    "                                      target_size=10)"
   ]
  },
  {
   "cell_type": "markdown",
   "metadata": {},
   "source": [
    "Wow this is actually quite good already! Makes sense that the walk forward validation MSE gets worse when we increase the target window and decrease the history size."
   ]
  },
  {
   "cell_type": "markdown",
   "metadata": {},
   "source": [
    "## Variable history sizes\n",
    "\n",
    "The strength of RNNs is that they permit a variable-length history. We can do this by having the RNN at training time learn to predict the next time point given the entire history. At inference time, we then predict the next data point one at a time, whereupon we take the last predicted data point and add it to the total history.\n",
    "\n",
    "To accomplish this, we need to pad all our input and output sequences to `max_history_len` and `max_target_len`, respectively. Then, we need to pass the unpadded length of each sequence to the model at training so that it knows to ignore the indices that are padded."
   ]
  },
  {
   "cell_type": "code",
   "execution_count": 30,
   "metadata": {
    "ExecuteTime": {
     "end_time": "2020-05-04T19:55:34.920620Z",
     "start_time": "2020-05-04T19:55:34.402496Z"
    }
   },
   "outputs": [],
   "source": [
    "X_train_padded, y_train = time_series.prepare_all_data_walk_forward(X_train)\n",
    "MAX_LEN = X_train_padded.shape[1]\n",
    "\n",
    "X_test_padded, y_test = time_series.prepare_all_data_walk_forward(X_test, max_len=MAX_LEN)"
   ]
  },
  {
   "cell_type": "code",
   "execution_count": 36,
   "metadata": {
    "ExecuteTime": {
     "end_time": "2020-05-04T19:58:16.960542Z",
     "start_time": "2020-05-04T19:58:16.847731Z"
    }
   },
   "outputs": [],
   "source": [
    "ds_train_padded, ds_test_padded = time_series.make_datasets(X_train_padded,\n",
    "                                                            X_test_padded,\n",
    "                                                            y_train,\n",
    "                                                            y_test)"
   ]
  },
  {
   "cell_type": "code",
   "execution_count": 1,
   "metadata": {
    "ExecuteTime": {
     "end_time": "2020-05-05T21:06:41.374654Z",
     "start_time": "2020-05-05T21:06:41.337564Z"
    }
   },
   "outputs": [],
   "source": [
    "def make_masked_lstm(max_len,\n",
    "                     target_len=1,\n",
    "                     hidden_size=16,\n",
    "                     mask_value=-1,\n",
    "                     pre_output_dense_size=None):\n",
    "    model = tf.keras.models.Sequential()\n",
    "    model.add(layers.Masking(mask_value=mask_value, input_shape=(max_len, 1)))\n",
    "    model.add(layers.LSTM(hidden_size))\n",
    "    if pre_output_dense_size:\n",
    "        model.add(layers.Dense(pre_output_dense_size, activation='relu'))\n",
    "    model.add(layers.Dense(target_len))\n",
    "    \n",
    "    model.compile(optimizer='adam', loss='mse')\n",
    "    return model"
   ]
  },
  {
   "cell_type": "code",
   "execution_count": 38,
   "metadata": {
    "ExecuteTime": {
     "end_time": "2020-05-04T19:58:28.959250Z",
     "start_time": "2020-05-04T19:58:27.690917Z"
    }
   },
   "outputs": [
    {
     "name": "stdout",
     "output_type": "stream",
     "text": [
      "Model: \"sequential_5\"\n",
      "_________________________________________________________________\n",
      "Layer (type)                 Output Shape              Param #   \n",
      "=================================================================\n",
      "masking_5 (Masking)          (None, 368, 1)            0         \n",
      "_________________________________________________________________\n",
      "lstm_5 (LSTM)                (None, 16)                1152      \n",
      "_________________________________________________________________\n",
      "dense_7 (Dense)              (None, 32)                544       \n",
      "_________________________________________________________________\n",
      "dense_8 (Dense)              (None, 1)                 33        \n",
      "=================================================================\n",
      "Total params: 1,729\n",
      "Trainable params: 1,729\n",
      "Non-trainable params: 0\n",
      "_________________________________________________________________\n"
     ]
    }
   ],
   "source": [
    "lstm_variable = make_masked_lstm(X_train_padded.shape[1],\n",
    "                                 target_len=1,\n",
    "                                 mask_value=-1,\n",
    "                                 pre_output_dense_size=32)\n",
    "lstm_variable.summary()"
   ]
  },
  {
   "cell_type": "code",
   "execution_count": 40,
   "metadata": {
    "ExecuteTime": {
     "end_time": "2020-05-04T20:10:39.936109Z",
     "start_time": "2020-05-04T19:59:20.569639Z"
    }
   },
   "outputs": [
    {
     "name": "stdout",
     "output_type": "stream",
     "text": [
      "Train for 76 steps, validate for 19 steps\n",
      "Epoch 1/25\n",
      "76/76 [==============================] - 32s 420ms/step - loss: 2.9126 - val_loss: 2.3838\n",
      "Epoch 2/25\n",
      "76/76 [==============================] - 29s 381ms/step - loss: 0.8027 - val_loss: 1.0614\n",
      "Epoch 3/25\n",
      "76/76 [==============================] - 27s 358ms/step - loss: 0.5487 - val_loss: 0.7998\n",
      "Epoch 4/25\n",
      "76/76 [==============================] - 27s 353ms/step - loss: 0.4901 - val_loss: 0.6832\n",
      "Epoch 5/25\n",
      "76/76 [==============================] - 28s 366ms/step - loss: 0.4670 - val_loss: 0.6315\n",
      "Epoch 6/25\n",
      "76/76 [==============================] - 28s 374ms/step - loss: 0.4574 - val_loss: 0.6263\n",
      "Epoch 7/25\n",
      "76/76 [==============================] - 27s 350ms/step - loss: 0.4489 - val_loss: 0.5865\n",
      "Epoch 8/25\n",
      "76/76 [==============================] - 27s 358ms/step - loss: 0.4458 - val_loss: 0.5783\n",
      "Epoch 9/25\n",
      "76/76 [==============================] - 27s 354ms/step - loss: 0.4429 - val_loss: 0.5726\n",
      "Epoch 10/25\n",
      "76/76 [==============================] - 27s 361ms/step - loss: 0.4407 - val_loss: 0.5656\n",
      "Epoch 11/25\n",
      "76/76 [==============================] - 27s 354ms/step - loss: 0.4378 - val_loss: 0.5620\n",
      "Epoch 12/25\n",
      "76/76 [==============================] - 26s 349ms/step - loss: 0.4359 - val_loss: 0.5718\n",
      "Epoch 13/25\n",
      "76/76 [==============================] - 26s 343ms/step - loss: 0.4344 - val_loss: 0.5630\n",
      "Epoch 14/25\n",
      "76/76 [==============================] - 27s 355ms/step - loss: 0.4340 - val_loss: 0.5604\n",
      "Epoch 15/25\n",
      "76/76 [==============================] - 27s 355ms/step - loss: 0.4342 - val_loss: 0.5602\n",
      "Epoch 16/25\n",
      "76/76 [==============================] - 26s 337ms/step - loss: 0.4290 - val_loss: 0.5849\n",
      "Epoch 17/25\n",
      "76/76 [==============================] - 27s 361ms/step - loss: 0.4307 - val_loss: 0.5722\n",
      "Epoch 18/25\n",
      "76/76 [==============================] - 27s 350ms/step - loss: 0.4276 - val_loss: 0.5684\n",
      "Epoch 19/25\n",
      "76/76 [==============================] - 28s 362ms/step - loss: 0.4242 - val_loss: 0.5642\n",
      "Epoch 20/25\n",
      "76/76 [==============================] - 26s 343ms/step - loss: 0.4205 - val_loss: 0.5828\n",
      "Epoch 21/25\n",
      "76/76 [==============================] - 27s 354ms/step - loss: 0.4151 - val_loss: 0.5720\n",
      "Epoch 22/25\n",
      "76/76 [==============================] - 26s 342ms/step - loss: 0.4100 - val_loss: 0.5835\n",
      "Epoch 23/25\n",
      "76/76 [==============================] - 27s 361ms/step - loss: 0.4112 - val_loss: 0.5737\n",
      "Epoch 24/25\n",
      "76/76 [==============================] - 27s 354ms/step - loss: 0.4111 - val_loss: 0.5559\n",
      "Epoch 25/25\n",
      "76/76 [==============================] - 26s 343ms/step - loss: 0.4063 - val_loss: 0.5590\n"
     ]
    }
   ],
   "source": [
    "EPOCHS = 25\n",
    "history = lstm_variable.fit(ds_train_padded,\n",
    "                            validation_data=ds_test_padded,\n",
    "                            epochs=EPOCHS)"
   ]
  },
  {
   "cell_type": "code",
   "execution_count": 41,
   "metadata": {
    "ExecuteTime": {
     "end_time": "2020-05-04T20:18:28.912254Z",
     "start_time": "2020-05-04T20:18:28.466030Z"
    }
   },
   "outputs": [
    {
     "data": {
      "image/png": "[encoded data removed]",
      "text/plain": [
       "<Figure size 432x288 with 1 Axes>"
      ]
     },
     "metadata": {
      "needs_background": "light"
     },
     "output_type": "display_data"
    }
   ],
   "source": [
    "plotting.plot_history(history)"
   ]
  },
  {
   "cell_type": "code",
   "execution_count": 58,
   "metadata": {
    "ExecuteTime": {
     "end_time": "2020-05-04T21:04:28.721555Z",
     "start_time": "2020-05-04T21:04:28.634771Z"
    }
   },
   "outputs": [
    {
     "data": {
      "text/plain": [
       "(368,)"
      ]
     },
     "execution_count": 58,
     "metadata": {},
     "output_type": "execute_result"
    }
   ],
   "source": [
    "X_train[idx].shape"
   ]
  },
  {
   "cell_type": "code",
   "execution_count": 77,
   "metadata": {
    "ExecuteTime": {
     "end_time": "2020-05-04T21:17:10.750045Z",
     "start_time": "2020-05-04T21:17:08.726461Z"
    }
   },
   "outputs": [],
   "source": [
    "idx = 22\n",
    "OFFSET = 100\n",
    "HISTORY_LEN = 50\n",
    "TARGET_LEN = 25\n",
    "MAX_LEN = 368\n",
    "PAD_VAL = -1\n",
    "\n",
    "X_true = X_train[idx]\n",
    "ts = np.full((1, MAX_LEN, 1), PAD_VAL, dtype=np.float32)\n",
    "ts[0, :HISTORY_LEN, 0] = X_true[OFFSET:OFFSET + HISTORY_LEN]\n",
    "for i in range(TARGET_LEN):\n",
    "    y_ = lstm_variable.predict(ts)\n",
    "    ts[0, HISTORY_LEN + i, 0] = y_"
   ]
  },
  {
   "cell_type": "code",
   "execution_count": 79,
   "metadata": {
    "ExecuteTime": {
     "end_time": "2020-05-04T21:19:24.454354Z",
     "start_time": "2020-05-04T21:19:24.393347Z"
    }
   },
   "outputs": [
    {
     "data": {
      "text/plain": [
       "(368,)"
      ]
     },
     "execution_count": 79,
     "metadata": {},
     "output_type": "execute_result"
    }
   ],
   "source": [
    "X_true.shape"
   ]
  },
  {
   "cell_type": "code",
   "execution_count": 82,
   "metadata": {
    "ExecuteTime": {
     "end_time": "2020-05-04T21:20:40.845140Z",
     "start_time": "2020-05-04T21:20:40.546695Z"
    }
   },
   "outputs": [
    {
     "data": {
      "text/plain": [
       "[<matplotlib.lines.Line2D at 0x140257510>]"
      ]
     },
     "execution_count": 82,
     "metadata": {},
     "output_type": "execute_result"
    },
    {
     "data": {
      "image/png": "[encoded data removed]",
      "text/plain": [
       "<Figure size 432x288 with 1 Axes>"
      ]
     },
     "metadata": {
      "needs_background": "light"
     },
     "output_type": "display_data"
    }
   ],
   "source": [
    "t = np.arange(HISTORY_LEN + TARGET_LEN)\n",
    "plt.plot(t, X_true[OFFSET:OFFSET + HISTORY_LEN + TARGET_LEN])\n",
    "plt.plot(t[-TARGET_LEN:], ts[0, 1:TARGET_LEN+1, 0], 'x', color='r')"
   ]
  },
  {
   "cell_type": "code",
   "execution_count": 47,
   "metadata": {
    "ExecuteTime": {
     "end_time": "2020-05-04T20:56:32.236915Z",
     "start_time": "2020-05-04T20:56:32.163037Z"
    }
   },
   "outputs": [
    {
     "data": {
      "text/plain": [
       "(92, 368, 1)"
      ]
     },
     "execution_count": 47,
     "metadata": {},
     "output_type": "execute_result"
    }
   ],
   "source": [
    "x_pad.shape"
   ]
  },
  {
   "cell_type": "code",
   "execution_count": 52,
   "metadata": {
    "ExecuteTime": {
     "end_time": "2020-05-04T20:58:06.663272Z",
     "start_time": "2020-05-04T20:58:06.347360Z"
    }
   },
   "outputs": [],
   "source": [
    "y_pred = lstm_variable.predict(x_pad)"
   ]
  },
  {
   "cell_type": "code",
   "execution_count": 55,
   "metadata": {
    "ExecuteTime": {
     "end_time": "2020-05-04T20:59:40.195393Z",
     "start_time": "2020-05-04T20:59:39.900501Z"
    }
   },
   "outputs": [
    {
     "data": {
      "text/plain": [
       "<matplotlib.legend.Legend at 0x141151850>"
      ]
     },
     "execution_count": 55,
     "metadata": {},
     "output_type": "execute_result"
    },
    {
     "data": {
      "image/png": "[encoded data removed]",
      "text/plain": [
       "<Figure size 432x288 with 1 Axes>"
      ]
     },
     "metadata": {
      "needs_background": "light"
     },
     "output_type": "display_data"
    }
   ],
   "source": [
    "t = np.arange(len(X_test[idx]))\n",
    "plt.plot(t, X_test[idx], 'o', label='True')\n",
    "plt.plot(t[1:], y_pred, 'x', c='r', label='Predicted')\n",
    "plt.legend()"
   ]
  },
  {
   "cell_type": "code",
   "execution_count": null,
   "metadata": {},
   "outputs": [],
   "source": []
  }
 ],
 "metadata": {
  "kernelspec": {
   "display_name": "Python 3",
   "language": "python",
   "name": "python3"
  },
  "language_info": {
   "codemirror_mode": {
    "name": "ipython",
    "version": 3
   },
   "file_extension": ".py",
   "mimetype": "text/x-python",
   "name": "python",
   "nbconvert_exporter": "python",
   "pygments_lexer": "ipython3",
   "version": "3.7.6"
  },
  "varInspector": {
   "cols": {
    "lenName": 16,
    "lenType": 16,
    "lenVar": 40
   },
   "kernels_config": {
    "python": {
     "delete_cmd_postfix": "",
     "delete_cmd_prefix": "del ",
     "library": "var_list.py",
     "varRefreshCmd": "print(var_dic_list())"
    },
    "r": {
     "delete_cmd_postfix": ") ",
     "delete_cmd_prefix": "rm(",
     "library": "var_list.r",
     "varRefreshCmd": "cat(var_dic_list()) "
    }
   },
   "types_to_exclude": [
    "module",
    "function",
    "builtin_function_or_method",
    "instance",
    "_Feature"
   ],
   "window_display": false
  }
 },
 "nbformat": 4,
 "nbformat_minor": 4
}
