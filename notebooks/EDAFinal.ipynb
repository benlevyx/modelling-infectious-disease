{
 "cells": [
  {
   "cell_type": "markdown",
   "metadata": {},
   "source": [
    "# Final Project CS209b\n",
    "## Milestone 3: EDA -- April 13\n",
    "### Benjamin Levy, Will Fried, Dimitris Vamvourellis & Matthieu Meeus"
   ]
  },
  {
   "cell_type": "markdown",
   "metadata": {},
   "source": [
    "### 1. Problem statement"
   ]
  },
  {
   "cell_type": "markdown",
   "metadata": {},
   "source": [
    "In this project, the team will tackle Module D: Predicting Disease Activity. The overall goal is to build short-term forecasting models of relevant disease activity parameters. \n",
    "\n",
    "After some discussion, we have decided that we wish to ultimately build a model for the Covid-19 epidemic, by first leveraging the knowledge we can gain from a better understood, and better documented disease activity: influenza in the US. For the latter, we are given a dataset of the infection rate of the flu in the entire US, from 2010 until 2020. We believe that this contains valuable information on the spread of disease activity in general, which could serve as basis to build forecasting models for Covid-19. "
   ]
  },
  {
   "cell_type": "markdown",
   "metadata": {},
   "source": [
    "### 2. EDA"
   ]
  },
  {
   "cell_type": "markdown",
   "metadata": {},
   "source": [
    "Given that we will focus on the flu and Covid-19, we performed an initial exploration of the following:\n",
    "\n",
    "- The given data concerning the spread of the flu in the US. Ordered per state, this gives us the infection rate on a weekly basis since 2010. This data has been carefully explored, with a special focus on geographical similarities, and the results are available on a simple streamlit app. In order to access this, one should do the following:\n",
    "\n",
    "    - Clone our GitRepo: https://github.com/benlevyx/modelling-infectious-disease\n",
    "    - Install streamlit in an environment using 'pip install streamlit'\n",
    "    - Go into the folder named 'notebooks'\n",
    "    - Execute the following command: 'streamlit run flu_eda_streamlit.py'\n",
    "    - The app will then be available on a localhost in your browser. \n",
    "    \n",
    "\n",
    "- The data concerning the spread of COVID-19, released by the MIDAS Coordination Center. The notebook covering this EDA can be found here: \n",
    "https://github.com/benlevyx/modelling-infectious-disease/blob/master/notebooks/eda-midas.ipynb\n",
    "\n"
   ]
  },
  {
   "cell_type": "code",
   "execution_count": null,
   "metadata": {},
   "outputs": [],
   "source": []
  }
 ],
 "metadata": {
  "kernelspec": {
   "display_name": "Python 3",
   "language": "python",
   "name": "python3"
  },
  "language_info": {
   "codemirror_mode": {
    "name": "ipython",
    "version": 3
   },
   "file_extension": ".py",
   "mimetype": "text/x-python",
   "name": "python",
   "nbconvert_exporter": "python",
   "pygments_lexer": "ipython3",
   "version": "3.7.6"
  }
 },
 "nbformat": 4,
 "nbformat_minor": 4
}
