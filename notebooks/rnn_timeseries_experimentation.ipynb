{
 "cells": [
  {
   "cell_type": "code",
   "execution_count": 38,
   "metadata": {
    "ExecuteTime": {
     "end_time": "2020-05-04T03:33:41.196566Z",
     "start_time": "2020-05-04T03:33:41.026009Z"
    }
   },
   "outputs": [
    {
     "name": "stdout",
     "output_type": "stream",
     "text": [
      "The autoreload extension is already loaded. To reload it, use:\n",
      "  %reload_ext autoreload\n"
     ]
    }
   ],
   "source": [
    "import re\n",
    "from tqdm.notebook import tqdm\n",
    "\n",
    "from IPython.display import display\n",
    "\n",
    "import pandas as pd\n",
    "import numpy as np\n",
    "import matplotlib.pyplot as plt\n",
    "from sklearn.model_selection import train_test_split\n",
    "\n",
    "import tensorflow as tf\n",
    "from tensorflow.keras import layers\n",
    "\n",
    "from covid_flu import config, utils, time_series, plotting\n",
    "\n",
    "%load_ext autoreload\n",
    "%autoreload 2\n",
    "%matplotlib inline"
   ]
  },
  {
   "cell_type": "code",
   "execution_count": 3,
   "metadata": {
    "ExecuteTime": {
     "end_time": "2020-05-04T03:03:07.999458Z",
     "start_time": "2020-05-04T03:03:07.730490Z"
    }
   },
   "outputs": [
    {
     "data": {
      "text/html": [
       "<div>\n",
       "<style scoped>\n",
       "    .dataframe tbody tr th:only-of-type {\n",
       "        vertical-align: middle;\n",
       "    }\n",
       "\n",
       "    .dataframe tbody tr th {\n",
       "        vertical-align: top;\n",
       "    }\n",
       "\n",
       "    .dataframe thead th {\n",
       "        text-align: right;\n",
       "    }\n",
       "</style>\n",
       "<table border=\"1\" class=\"dataframe\">\n",
       "  <thead>\n",
       "    <tr style=\"text-align: right;\">\n",
       "      <th></th>\n",
       "      <th>time</th>\n",
       "      <th>wili</th>\n",
       "      <th>state</th>\n",
       "    </tr>\n",
       "  </thead>\n",
       "  <tbody>\n",
       "    <tr>\n",
       "      <th>0</th>\n",
       "      <td>2010-40</td>\n",
       "      <td>2.13477</td>\n",
       "      <td>Alabama</td>\n",
       "    </tr>\n",
       "    <tr>\n",
       "      <th>1</th>\n",
       "      <td>2010-41</td>\n",
       "      <td>2.05999</td>\n",
       "      <td>Alabama</td>\n",
       "    </tr>\n",
       "    <tr>\n",
       "      <th>2</th>\n",
       "      <td>2010-42</td>\n",
       "      <td>1.94224</td>\n",
       "      <td>Alabama</td>\n",
       "    </tr>\n",
       "    <tr>\n",
       "      <th>3</th>\n",
       "      <td>2010-43</td>\n",
       "      <td>2.27650</td>\n",
       "      <td>Alabama</td>\n",
       "    </tr>\n",
       "    <tr>\n",
       "      <th>4</th>\n",
       "      <td>2010-44</td>\n",
       "      <td>2.83371</td>\n",
       "      <td>Alabama</td>\n",
       "    </tr>\n",
       "  </tbody>\n",
       "</table>\n",
       "</div>"
      ],
      "text/plain": [
       "      time     wili    state\n",
       "0  2010-40  2.13477  Alabama\n",
       "1  2010-41  2.05999  Alabama\n",
       "2  2010-42  1.94224  Alabama\n",
       "3  2010-43  2.27650  Alabama\n",
       "4  2010-44  2.83371  Alabama"
      ]
     },
     "metadata": {},
     "output_type": "display_data"
    },
    {
     "data": {
      "text/html": [
       "<div>\n",
       "<style scoped>\n",
       "    .dataframe tbody tr th:only-of-type {\n",
       "        vertical-align: middle;\n",
       "    }\n",
       "\n",
       "    .dataframe tbody tr th {\n",
       "        vertical-align: top;\n",
       "    }\n",
       "\n",
       "    .dataframe thead th {\n",
       "        text-align: right;\n",
       "    }\n",
       "</style>\n",
       "<table border=\"1\" class=\"dataframe\">\n",
       "  <thead>\n",
       "    <tr style=\"text-align: right;\">\n",
       "      <th></th>\n",
       "      <th>time</th>\n",
       "      <th>wili</th>\n",
       "      <th>state</th>\n",
       "    </tr>\n",
       "  </thead>\n",
       "  <tbody>\n",
       "    <tr>\n",
       "      <th>456</th>\n",
       "      <td>2019-27</td>\n",
       "      <td>0.280899</td>\n",
       "      <td>Wyoming</td>\n",
       "    </tr>\n",
       "    <tr>\n",
       "      <th>457</th>\n",
       "      <td>2019-28</td>\n",
       "      <td>0.166021</td>\n",
       "      <td>Wyoming</td>\n",
       "    </tr>\n",
       "    <tr>\n",
       "      <th>458</th>\n",
       "      <td>2019-29</td>\n",
       "      <td>0.000100</td>\n",
       "      <td>Wyoming</td>\n",
       "    </tr>\n",
       "    <tr>\n",
       "      <th>459</th>\n",
       "      <td>2019-30</td>\n",
       "      <td>0.000100</td>\n",
       "      <td>Wyoming</td>\n",
       "    </tr>\n",
       "    <tr>\n",
       "      <th>460</th>\n",
       "      <td>2019-31</td>\n",
       "      <td>0.000100</td>\n",
       "      <td>Wyoming</td>\n",
       "    </tr>\n",
       "  </tbody>\n",
       "</table>\n",
       "</div>"
      ],
      "text/plain": [
       "        time      wili    state\n",
       "456  2019-27  0.280899  Wyoming\n",
       "457  2019-28  0.166021  Wyoming\n",
       "458  2019-29  0.000100  Wyoming\n",
       "459  2019-30  0.000100  Wyoming\n",
       "460  2019-31  0.000100  Wyoming"
      ]
     },
     "metadata": {},
     "output_type": "display_data"
    }
   ],
   "source": [
    "df_flu = utils.load_flu_data()\n",
    "display(df_flu.head())\n",
    "display(df_flu.tail())"
   ]
  },
  {
   "cell_type": "markdown",
   "metadata": {},
   "source": [
    "## Simple RNN model: predicting `d` days from a fixed input length"
   ]
  },
  {
   "cell_type": "code",
   "execution_count": 110,
   "metadata": {
    "ExecuteTime": {
     "end_time": "2020-05-04T04:05:23.248728Z",
     "start_time": "2020-05-04T04:05:23.176199Z"
    }
   },
   "outputs": [
    {
     "data": {
      "text/plain": [
       "array([[['2010-40', 0.26299, 'New York']],\n",
       "\n",
       "       [['2010-41', 0.369729, 'New York']],\n",
       "\n",
       "       [['2010-42', 0.362121, 'New York']],\n",
       "\n",
       "       ...,\n",
       "\n",
       "       [['2019-29', 0.4943, 'New York']],\n",
       "\n",
       "       [['2019-30', 0.511351, 'New York']],\n",
       "\n",
       "       [['2019-31', 0.562652, 'New York']]], dtype=object)"
      ]
     },
     "execution_count": 110,
     "metadata": {},
     "output_type": "execute_result"
    }
   ],
   "source": [
    "df_flu.values[np.argwhere(df_flu['state'].values == 'New York')]"
   ]
  },
  {
   "cell_type": "code",
   "execution_count": 281,
   "metadata": {
    "ExecuteTime": {
     "end_time": "2020-05-04T05:01:44.988949Z",
     "start_time": "2020-05-04T05:01:44.912761Z"
    }
   },
   "outputs": [],
   "source": [
    "# Preparing data\n",
    "HISTORY_SIZE = 25\n",
    "TARGET_SIZE = 1\n",
    "\n",
    "def prepare_time_series_data(ts, groups=None, history_size=HISTORY_SIZE, target_size=TARGET_SIZE):  \n",
    "    X_all, y_all = [], []\n",
    "    if groups is None:\n",
    "        X_all, y_all = _prepare_ts_single(ts, history_size, target_size)\n",
    "    else:\n",
    "        for group in np.unique(groups):\n",
    "            subset = ts[np.argwhere(groups == group)]\n",
    "            hist, trg = _prepare_ts_single(subset, history_size, target_size)\n",
    "            X_all.extend(hist)\n",
    "            y_all.extend(trg)\n",
    "            \n",
    "    X_all = np.stack(X_all, axis=0)\n",
    "    y_all = np.stack(y_all, axis=0)\n",
    "\n",
    "    return X_all, y_all\n",
    "\n",
    "\n",
    "def _prepare_ts_single(ts, history_size, target_size):\n",
    "    X_all, y_all = [], []\n",
    "    ts_len = len(subset)\n",
    "    for i in range(ts_len - history_size - target_size):\n",
    "        hist, trg = time_series.prepare_univariate_time_series(subset, history_size, target_size, offset=i)\n",
    "        X_all.append(hist)\n",
    "        y_all.append(trg)\n",
    "    return X_all, y_all\n",
    "\n",
    "\n",
    "def prepare_and_split_ts(ts, groups=None, history_size=HISTORY_SIZE, target_size=TARGET_SIZE, test_size=0.2):\n",
    "    X_all, y_all = prepare_time_series_data(ts, groups=groups, history_size=history_size, target_size=target_size)\n",
    "    len_test = int(np.ceil(len(X_all) * test_size))\n",
    "    return X_all[:-len_test], X_all[-len_test:], y_all[:-len_test], y_all[-len_test:]\n",
    "#     return train_test_split(X_all, y_all, test_size=test_size)\n",
    "\n",
    "\n",
    "def _make_datasets(X_train, X_test, y_train, y_test, batch_size=256, buffer_size=1000):\n",
    "    ds_train = tf.data.Dataset.from_tensor_slices((X_train, y_train))\n",
    "    ds_train = ds_train.cache().shuffle(buffer_size).batch(batch_size).repeat()\n",
    "\n",
    "    ds_test = tf.data.Dataset.from_tensor_slices((X_test, y_test))\n",
    "    ds_test = ds_test.cache().shuffle(buffer_size).batch(batch_size).repeat()\n",
    "    \n",
    "    return ds_train, ds_test\n",
    "\n",
    "\n",
    "def prepare_data(ts, groups=None, history_size=HISTORY_SIZE, target_size=TARGET_SIZE, test_size=0.2):\n",
    "    splits = prepare_and_split_ts(ts, \n",
    "                                  groups=groups, \n",
    "                                  history_size=history_size, \n",
    "                                  target_size=target_size, \n",
    "                                  test_size=0.2)\n",
    "    return _make_datasets(*splits)"
   ]
  },
  {
   "cell_type": "code",
   "execution_count": 188,
   "metadata": {
    "ExecuteTime": {
     "end_time": "2020-05-04T04:33:39.791834Z",
     "start_time": "2020-05-04T04:33:39.395804Z"
    }
   },
   "outputs": [],
   "source": [
    "ds_train, ds_test = prepare_data(df_flu['wili'].values, df_flu['state'].values,\n",
    "                                 history_size=25, target_size=1, test_size=0.2)"
   ]
  },
  {
   "cell_type": "markdown",
   "metadata": {},
   "source": [
    "### Constructing the RNN"
   ]
  },
  {
   "cell_type": "code",
   "execution_count": 189,
   "metadata": {
    "ExecuteTime": {
     "end_time": "2020-05-04T04:33:41.643587Z",
     "start_time": "2020-05-04T04:33:41.580939Z"
    }
   },
   "outputs": [],
   "source": [
    "def make_simple_lstm(history_length=25, target_length=1, hidden_size=8, pre_output_dense_size=None):\n",
    "    simple_lstm = tf.keras.models.Sequential()\n",
    "    simple_lstm.add(layers.LSTM(hidden_size, input_shape=(history_length,1)))\n",
    "    if pre_output_dense_size:\n",
    "        simple_lstm.add(layers.Dense(pre_output_dense_size))\n",
    "    simple_lstm.add(layers.Dense(target_length))\n",
    "    \n",
    "    simple_lstm.compile(optimizer='adam', loss='mse')\n",
    "    return simple_lstm"
   ]
  },
  {
   "cell_type": "code",
   "execution_count": 192,
   "metadata": {
    "ExecuteTime": {
     "end_time": "2020-05-04T04:34:15.087992Z",
     "start_time": "2020-05-04T04:34:14.807411Z"
    }
   },
   "outputs": [],
   "source": [
    "simple_lstm = make_simple_lstm()"
   ]
  },
  {
   "cell_type": "code",
   "execution_count": 199,
   "metadata": {
    "ExecuteTime": {
     "end_time": "2020-05-04T04:35:48.584707Z",
     "start_time": "2020-05-04T04:35:48.516507Z"
    }
   },
   "outputs": [
    {
     "name": "stdout",
     "output_type": "stream",
     "text": [
      "Model: \"sequential_11\"\n",
      "_________________________________________________________________\n",
      "Layer (type)                 Output Shape              Param #   \n",
      "=================================================================\n",
      "lstm_11 (LSTM)               (None, 8)                 320       \n",
      "_________________________________________________________________\n",
      "dense_10 (Dense)             (None, 1)                 9         \n",
      "=================================================================\n",
      "Total params: 329\n",
      "Trainable params: 329\n",
      "Non-trainable params: 0\n",
      "_________________________________________________________________\n"
     ]
    }
   ],
   "source": [
    "simple_lstm.summary()"
   ]
  },
  {
   "cell_type": "code",
   "execution_count": 193,
   "metadata": {
    "ExecuteTime": {
     "end_time": "2020-05-04T04:34:36.879100Z",
     "start_time": "2020-05-04T04:34:15.277587Z"
    }
   },
   "outputs": [
    {
     "name": "stdout",
     "output_type": "stream",
     "text": [
      "Train for 50 steps, validate for 50 steps\n",
      "Epoch 1/20\n",
      "50/50 [==============================] - 3s 59ms/step - loss: 3.9168 - val_loss: 3.1677\n",
      "Epoch 2/20\n",
      "50/50 [==============================] - 1s 20ms/step - loss: 2.5126 - val_loss: 2.2231\n",
      "Epoch 3/20\n",
      "50/50 [==============================] - 1s 20ms/step - loss: 2.0010 - val_loss: 1.7680\n",
      "Epoch 4/20\n",
      "50/50 [==============================] - 1s 20ms/step - loss: 1.6625 - val_loss: 1.5398\n",
      "Epoch 5/20\n",
      "50/50 [==============================] - 1s 20ms/step - loss: 1.3735 - val_loss: 1.4931\n",
      "Epoch 6/20\n",
      "50/50 [==============================] - 1s 20ms/step - loss: 1.2049 - val_loss: 1.2071\n",
      "Epoch 7/20\n",
      "50/50 [==============================] - 1s 20ms/step - loss: 0.9988 - val_loss: 0.8804\n",
      "Epoch 8/20\n",
      "50/50 [==============================] - 1s 20ms/step - loss: 0.8238 - val_loss: 0.8653\n",
      "Epoch 9/20\n",
      "50/50 [==============================] - 1s 19ms/step - loss: 0.7110 - val_loss: 0.6599\n",
      "Epoch 10/20\n",
      "50/50 [==============================] - 1s 19ms/step - loss: 0.6194 - val_loss: 0.5417\n",
      "Epoch 11/20\n",
      "50/50 [==============================] - 1s 19ms/step - loss: 0.5508 - val_loss: 0.4730\n",
      "Epoch 12/20\n",
      "50/50 [==============================] - 1s 19ms/step - loss: 0.4724 - val_loss: 0.4151\n",
      "Epoch 13/20\n",
      "50/50 [==============================] - 1s 19ms/step - loss: 0.4239 - val_loss: 0.4182\n",
      "Epoch 14/20\n",
      "50/50 [==============================] - 1s 19ms/step - loss: 0.3735 - val_loss: 0.3313\n",
      "Epoch 15/20\n",
      "50/50 [==============================] - 1s 19ms/step - loss: 0.3293 - val_loss: 0.3001\n",
      "Epoch 16/20\n",
      "50/50 [==============================] - 1s 20ms/step - loss: 0.3136 - val_loss: 0.2784\n",
      "Epoch 17/20\n",
      "50/50 [==============================] - 1s 19ms/step - loss: 0.3148 - val_loss: 0.2526\n",
      "Epoch 18/20\n",
      "50/50 [==============================] - 1s 19ms/step - loss: 0.2610 - val_loss: 0.2355\n",
      "Epoch 19/20\n",
      "50/50 [==============================] - 1s 20ms/step - loss: 0.2493 - val_loss: 0.2335\n",
      "Epoch 20/20\n",
      "50/50 [==============================] - 1s 19ms/step - loss: 0.2457 - val_loss: 0.2258\n"
     ]
    }
   ],
   "source": [
    "EPOCHS = 20\n",
    "STEPS_PER_EPOCH = 50\n",
    "history = simple_lstm.fit(ds_train, epochs=EPOCHS, validation_data=ds_test,\n",
    "                          steps_per_epoch=STEPS_PER_EPOCH,\n",
    "                          validation_steps=50)"
   ]
  },
  {
   "cell_type": "code",
   "execution_count": 194,
   "metadata": {
    "ExecuteTime": {
     "end_time": "2020-05-04T04:34:45.719479Z",
     "start_time": "2020-05-04T04:34:45.412992Z"
    }
   },
   "outputs": [
    {
     "data": {
      "image/png": "[encoded data removed]",
      "text/plain": [
       "<Figure size 432x288 with 1 Axes>"
      ]
     },
     "metadata": {
      "needs_background": "light"
     },
     "output_type": "display_data"
    }
   ],
   "source": [
    "plotting.plot_history(history)"
   ]
  },
  {
   "cell_type": "code",
   "execution_count": 264,
   "metadata": {
    "ExecuteTime": {
     "end_time": "2020-05-04T04:50:36.354985Z",
     "start_time": "2020-05-04T04:50:36.283410Z"
    }
   },
   "outputs": [],
   "source": [
    "def plot_model_pred(model, X, y=None, idx=None, ax=None):\n",
    "    if y is None and isinstance(X, tf.data.Dataset):\n",
    "        X_eval, y_eval = next(X.unbatch().batch(1).take(1).as_numpy_iterator())\n",
    "    else:\n",
    "        if not idx:\n",
    "            idx = np.random.choice(len(X))\n",
    "\n",
    "        X_eval = X_test[idx].reshape(1, -1, 1)\n",
    "        y_eval = y_test[idx].reshape(-1, 1)\n",
    "    y_pred = model.predict(X_eval).reshape(-1, 1)\n",
    "\n",
    "    plotting.plot_time_series_prediction(X_eval, y_eval, y_pred, ax=ax)\n",
    "#     plt.show()"
   ]
  },
  {
   "cell_type": "code",
   "execution_count": 228,
   "metadata": {
    "ExecuteTime": {
     "end_time": "2020-05-04T04:45:41.040978Z",
     "start_time": "2020-05-04T04:45:40.911435Z"
    }
   },
   "outputs": [
    {
     "ename": "ValueError",
     "evalue": "Error when checking input: expected lstm_11_input to have shape (25, 1) but got array with shape (50, 1)",
     "output_type": "error",
     "traceback": [
      "\u001b[0;31m---------------------------------------------------------------------------\u001b[0m",
      "\u001b[0;31mValueError\u001b[0m                                Traceback (most recent call last)",
      "\u001b[0;32m<ipython-input-228-fc3766e91bf8>\u001b[0m in \u001b[0;36m<module>\u001b[0;34m\u001b[0m\n\u001b[0;32m----> 1\u001b[0;31m \u001b[0mplot_model_pred\u001b[0m\u001b[0;34m(\u001b[0m\u001b[0msimple_lstm\u001b[0m\u001b[0;34m,\u001b[0m \u001b[0mds_test\u001b[0m\u001b[0;34m)\u001b[0m\u001b[0;34m\u001b[0m\u001b[0;34m\u001b[0m\u001b[0m\n\u001b[0m",
      "\u001b[0;32m<ipython-input-227-04e44be57918>\u001b[0m in \u001b[0;36mplot_model_pred\u001b[0;34m(model, X, y, idx)\u001b[0m\n\u001b[1;32m      8\u001b[0m         \u001b[0mX_eval\u001b[0m \u001b[0;34m=\u001b[0m \u001b[0mX_test\u001b[0m\u001b[0;34m[\u001b[0m\u001b[0midx\u001b[0m\u001b[0;34m]\u001b[0m\u001b[0;34m.\u001b[0m\u001b[0mreshape\u001b[0m\u001b[0;34m(\u001b[0m\u001b[0;36m1\u001b[0m\u001b[0;34m,\u001b[0m \u001b[0;34m-\u001b[0m\u001b[0;36m1\u001b[0m\u001b[0;34m,\u001b[0m \u001b[0;36m1\u001b[0m\u001b[0;34m)\u001b[0m\u001b[0;34m\u001b[0m\u001b[0;34m\u001b[0m\u001b[0m\n\u001b[1;32m      9\u001b[0m         \u001b[0my_eval\u001b[0m \u001b[0;34m=\u001b[0m \u001b[0my_test\u001b[0m\u001b[0;34m[\u001b[0m\u001b[0midx\u001b[0m\u001b[0;34m]\u001b[0m\u001b[0;34m.\u001b[0m\u001b[0mreshape\u001b[0m\u001b[0;34m(\u001b[0m\u001b[0;34m-\u001b[0m\u001b[0;36m1\u001b[0m\u001b[0;34m,\u001b[0m \u001b[0;36m1\u001b[0m\u001b[0;34m)\u001b[0m\u001b[0;34m\u001b[0m\u001b[0;34m\u001b[0m\u001b[0m\n\u001b[0;32m---> 10\u001b[0;31m     \u001b[0my_pred\u001b[0m \u001b[0;34m=\u001b[0m \u001b[0mmodel\u001b[0m\u001b[0;34m.\u001b[0m\u001b[0mpredict\u001b[0m\u001b[0;34m(\u001b[0m\u001b[0mX_eval\u001b[0m\u001b[0;34m)\u001b[0m\u001b[0;34m.\u001b[0m\u001b[0mreshape\u001b[0m\u001b[0;34m(\u001b[0m\u001b[0;34m-\u001b[0m\u001b[0;36m1\u001b[0m\u001b[0;34m,\u001b[0m \u001b[0;36m1\u001b[0m\u001b[0;34m)\u001b[0m\u001b[0;34m\u001b[0m\u001b[0;34m\u001b[0m\u001b[0m\n\u001b[0m\u001b[1;32m     11\u001b[0m \u001b[0;34m\u001b[0m\u001b[0m\n\u001b[1;32m     12\u001b[0m     \u001b[0mplotting\u001b[0m\u001b[0;34m.\u001b[0m\u001b[0mplot_time_series_prediction\u001b[0m\u001b[0;34m(\u001b[0m\u001b[0mX_eval\u001b[0m\u001b[0;34m,\u001b[0m \u001b[0my_eval\u001b[0m\u001b[0;34m,\u001b[0m \u001b[0my_pred\u001b[0m\u001b[0;34m)\u001b[0m\u001b[0;34m\u001b[0m\u001b[0;34m\u001b[0m\u001b[0m\n",
      "\u001b[0;32m~/Desktop/Benjamin/School/19_20/Classes/spring/ac209b/project/covid-flu/lib/python3.7/site-packages/tensorflow_core/python/keras/engine/training.py\u001b[0m in \u001b[0;36mpredict\u001b[0;34m(self, x, batch_size, verbose, steps, callbacks, max_queue_size, workers, use_multiprocessing)\u001b[0m\n\u001b[1;32m   1011\u001b[0m         \u001b[0mmax_queue_size\u001b[0m\u001b[0;34m=\u001b[0m\u001b[0mmax_queue_size\u001b[0m\u001b[0;34m,\u001b[0m\u001b[0;34m\u001b[0m\u001b[0;34m\u001b[0m\u001b[0m\n\u001b[1;32m   1012\u001b[0m         \u001b[0mworkers\u001b[0m\u001b[0;34m=\u001b[0m\u001b[0mworkers\u001b[0m\u001b[0;34m,\u001b[0m\u001b[0;34m\u001b[0m\u001b[0;34m\u001b[0m\u001b[0m\n\u001b[0;32m-> 1013\u001b[0;31m         use_multiprocessing=use_multiprocessing)\n\u001b[0m\u001b[1;32m   1014\u001b[0m \u001b[0;34m\u001b[0m\u001b[0m\n\u001b[1;32m   1015\u001b[0m   \u001b[0;32mdef\u001b[0m \u001b[0mreset_metrics\u001b[0m\u001b[0;34m(\u001b[0m\u001b[0mself\u001b[0m\u001b[0;34m)\u001b[0m\u001b[0;34m:\u001b[0m\u001b[0;34m\u001b[0m\u001b[0;34m\u001b[0m\u001b[0m\n",
      "\u001b[0;32m~/Desktop/Benjamin/School/19_20/Classes/spring/ac209b/project/covid-flu/lib/python3.7/site-packages/tensorflow_core/python/keras/engine/training_v2.py\u001b[0m in \u001b[0;36mpredict\u001b[0;34m(self, model, x, batch_size, verbose, steps, callbacks, max_queue_size, workers, use_multiprocessing, **kwargs)\u001b[0m\n\u001b[1;32m    496\u001b[0m         \u001b[0mmodel\u001b[0m\u001b[0;34m,\u001b[0m \u001b[0mModeKeys\u001b[0m\u001b[0;34m.\u001b[0m\u001b[0mPREDICT\u001b[0m\u001b[0;34m,\u001b[0m \u001b[0mx\u001b[0m\u001b[0;34m=\u001b[0m\u001b[0mx\u001b[0m\u001b[0;34m,\u001b[0m \u001b[0mbatch_size\u001b[0m\u001b[0;34m=\u001b[0m\u001b[0mbatch_size\u001b[0m\u001b[0;34m,\u001b[0m \u001b[0mverbose\u001b[0m\u001b[0;34m=\u001b[0m\u001b[0mverbose\u001b[0m\u001b[0;34m,\u001b[0m\u001b[0;34m\u001b[0m\u001b[0;34m\u001b[0m\u001b[0m\n\u001b[1;32m    497\u001b[0m         \u001b[0msteps\u001b[0m\u001b[0;34m=\u001b[0m\u001b[0msteps\u001b[0m\u001b[0;34m,\u001b[0m \u001b[0mcallbacks\u001b[0m\u001b[0;34m=\u001b[0m\u001b[0mcallbacks\u001b[0m\u001b[0;34m,\u001b[0m \u001b[0mmax_queue_size\u001b[0m\u001b[0;34m=\u001b[0m\u001b[0mmax_queue_size\u001b[0m\u001b[0;34m,\u001b[0m\u001b[0;34m\u001b[0m\u001b[0;34m\u001b[0m\u001b[0m\n\u001b[0;32m--> 498\u001b[0;31m         workers=workers, use_multiprocessing=use_multiprocessing, **kwargs)\n\u001b[0m\u001b[1;32m    499\u001b[0m \u001b[0;34m\u001b[0m\u001b[0m\n\u001b[1;32m    500\u001b[0m \u001b[0;34m\u001b[0m\u001b[0m\n",
      "\u001b[0;32m~/Desktop/Benjamin/School/19_20/Classes/spring/ac209b/project/covid-flu/lib/python3.7/site-packages/tensorflow_core/python/keras/engine/training_v2.py\u001b[0m in \u001b[0;36m_model_iteration\u001b[0;34m(self, model, mode, x, y, batch_size, verbose, sample_weight, steps, callbacks, max_queue_size, workers, use_multiprocessing, **kwargs)\u001b[0m\n\u001b[1;32m    424\u001b[0m           \u001b[0mmax_queue_size\u001b[0m\u001b[0;34m=\u001b[0m\u001b[0mmax_queue_size\u001b[0m\u001b[0;34m,\u001b[0m\u001b[0;34m\u001b[0m\u001b[0;34m\u001b[0m\u001b[0m\n\u001b[1;32m    425\u001b[0m           \u001b[0mworkers\u001b[0m\u001b[0;34m=\u001b[0m\u001b[0mworkers\u001b[0m\u001b[0;34m,\u001b[0m\u001b[0;34m\u001b[0m\u001b[0;34m\u001b[0m\u001b[0m\n\u001b[0;32m--> 426\u001b[0;31m           use_multiprocessing=use_multiprocessing)\n\u001b[0m\u001b[1;32m    427\u001b[0m       \u001b[0mtotal_samples\u001b[0m \u001b[0;34m=\u001b[0m \u001b[0m_get_total_number_of_samples\u001b[0m\u001b[0;34m(\u001b[0m\u001b[0madapter\u001b[0m\u001b[0;34m)\u001b[0m\u001b[0;34m\u001b[0m\u001b[0;34m\u001b[0m\u001b[0m\n\u001b[1;32m    428\u001b[0m       \u001b[0muse_sample\u001b[0m \u001b[0;34m=\u001b[0m \u001b[0mtotal_samples\u001b[0m \u001b[0;32mis\u001b[0m \u001b[0;32mnot\u001b[0m \u001b[0;32mNone\u001b[0m\u001b[0;34m\u001b[0m\u001b[0;34m\u001b[0m\u001b[0m\n",
      "\u001b[0;32m~/Desktop/Benjamin/School/19_20/Classes/spring/ac209b/project/covid-flu/lib/python3.7/site-packages/tensorflow_core/python/keras/engine/training_v2.py\u001b[0m in \u001b[0;36m_process_inputs\u001b[0;34m(model, mode, x, y, batch_size, epochs, sample_weights, class_weights, shuffle, steps, distribution_strategy, max_queue_size, workers, use_multiprocessing)\u001b[0m\n\u001b[1;32m    644\u001b[0m     \u001b[0mstandardize_function\u001b[0m \u001b[0;34m=\u001b[0m \u001b[0;32mNone\u001b[0m\u001b[0;34m\u001b[0m\u001b[0;34m\u001b[0m\u001b[0m\n\u001b[1;32m    645\u001b[0m     x, y, sample_weights = standardize(\n\u001b[0;32m--> 646\u001b[0;31m         x, y, sample_weight=sample_weights)\n\u001b[0m\u001b[1;32m    647\u001b[0m   \u001b[0;32melif\u001b[0m \u001b[0madapter_cls\u001b[0m \u001b[0;32mis\u001b[0m \u001b[0mdata_adapter\u001b[0m\u001b[0;34m.\u001b[0m\u001b[0mListsOfScalarsDataAdapter\u001b[0m\u001b[0;34m:\u001b[0m\u001b[0;34m\u001b[0m\u001b[0;34m\u001b[0m\u001b[0m\n\u001b[1;32m    648\u001b[0m     \u001b[0mstandardize_function\u001b[0m \u001b[0;34m=\u001b[0m \u001b[0mstandardize\u001b[0m\u001b[0;34m\u001b[0m\u001b[0;34m\u001b[0m\u001b[0m\n",
      "\u001b[0;32m~/Desktop/Benjamin/School/19_20/Classes/spring/ac209b/project/covid-flu/lib/python3.7/site-packages/tensorflow_core/python/keras/engine/training.py\u001b[0m in \u001b[0;36m_standardize_user_data\u001b[0;34m(self, x, y, sample_weight, class_weight, batch_size, check_steps, steps_name, steps, validation_split, shuffle, extract_tensors_from_dataset)\u001b[0m\n\u001b[1;32m   2381\u001b[0m         \u001b[0mis_dataset\u001b[0m\u001b[0;34m=\u001b[0m\u001b[0mis_dataset\u001b[0m\u001b[0;34m,\u001b[0m\u001b[0;34m\u001b[0m\u001b[0;34m\u001b[0m\u001b[0m\n\u001b[1;32m   2382\u001b[0m         \u001b[0mclass_weight\u001b[0m\u001b[0;34m=\u001b[0m\u001b[0mclass_weight\u001b[0m\u001b[0;34m,\u001b[0m\u001b[0;34m\u001b[0m\u001b[0;34m\u001b[0m\u001b[0m\n\u001b[0;32m-> 2383\u001b[0;31m         batch_size=batch_size)\n\u001b[0m\u001b[1;32m   2384\u001b[0m \u001b[0;34m\u001b[0m\u001b[0m\n\u001b[1;32m   2385\u001b[0m   def _standardize_tensors(self, x, y, sample_weight, run_eagerly, dict_inputs,\n",
      "\u001b[0;32m~/Desktop/Benjamin/School/19_20/Classes/spring/ac209b/project/covid-flu/lib/python3.7/site-packages/tensorflow_core/python/keras/engine/training.py\u001b[0m in \u001b[0;36m_standardize_tensors\u001b[0;34m(self, x, y, sample_weight, run_eagerly, dict_inputs, is_dataset, class_weight, batch_size)\u001b[0m\n\u001b[1;32m   2408\u001b[0m           \u001b[0mfeed_input_shapes\u001b[0m\u001b[0;34m,\u001b[0m\u001b[0;34m\u001b[0m\u001b[0;34m\u001b[0m\u001b[0m\n\u001b[1;32m   2409\u001b[0m           \u001b[0mcheck_batch_axis\u001b[0m\u001b[0;34m=\u001b[0m\u001b[0;32mFalse\u001b[0m\u001b[0;34m,\u001b[0m  \u001b[0;31m# Don't enforce the batch size.\u001b[0m\u001b[0;34m\u001b[0m\u001b[0;34m\u001b[0m\u001b[0m\n\u001b[0;32m-> 2410\u001b[0;31m           exception_prefix='input')\n\u001b[0m\u001b[1;32m   2411\u001b[0m \u001b[0;34m\u001b[0m\u001b[0m\n\u001b[1;32m   2412\u001b[0m     \u001b[0;31m# Get typespecs for the input data and sanitize it if necessary.\u001b[0m\u001b[0;34m\u001b[0m\u001b[0;34m\u001b[0m\u001b[0;34m\u001b[0m\u001b[0m\n",
      "\u001b[0;32m~/Desktop/Benjamin/School/19_20/Classes/spring/ac209b/project/covid-flu/lib/python3.7/site-packages/tensorflow_core/python/keras/engine/training_utils.py\u001b[0m in \u001b[0;36mstandardize_input_data\u001b[0;34m(data, names, shapes, check_batch_axis, exception_prefix)\u001b[0m\n\u001b[1;32m    580\u001b[0m                              \u001b[0;34m': expected '\u001b[0m \u001b[0;34m+\u001b[0m \u001b[0mnames\u001b[0m\u001b[0;34m[\u001b[0m\u001b[0mi\u001b[0m\u001b[0;34m]\u001b[0m \u001b[0;34m+\u001b[0m \u001b[0;34m' to have shape '\u001b[0m \u001b[0;34m+\u001b[0m\u001b[0;34m\u001b[0m\u001b[0;34m\u001b[0m\u001b[0m\n\u001b[1;32m    581\u001b[0m                              \u001b[0mstr\u001b[0m\u001b[0;34m(\u001b[0m\u001b[0mshape\u001b[0m\u001b[0;34m)\u001b[0m \u001b[0;34m+\u001b[0m \u001b[0;34m' but got array with shape '\u001b[0m \u001b[0;34m+\u001b[0m\u001b[0;34m\u001b[0m\u001b[0;34m\u001b[0m\u001b[0m\n\u001b[0;32m--> 582\u001b[0;31m                              str(data_shape))\n\u001b[0m\u001b[1;32m    583\u001b[0m   \u001b[0;32mreturn\u001b[0m \u001b[0mdata\u001b[0m\u001b[0;34m\u001b[0m\u001b[0;34m\u001b[0m\u001b[0m\n\u001b[1;32m    584\u001b[0m \u001b[0;34m\u001b[0m\u001b[0m\n",
      "\u001b[0;31mValueError\u001b[0m: Error when checking input: expected lstm_11_input to have shape (25, 1) but got array with shape (50, 1)"
     ]
    }
   ],
   "source": [
    "plot_model_pred(simple_lstm, ds_test)"
   ]
  },
  {
   "cell_type": "markdown",
   "metadata": {},
   "source": [
    "## Trying to predict a longer time horizon"
   ]
  },
  {
   "cell_type": "code",
   "execution_count": 282,
   "metadata": {
    "ExecuteTime": {
     "end_time": "2020-05-04T05:01:51.124450Z",
     "start_time": "2020-05-04T05:01:50.466564Z"
    }
   },
   "outputs": [
    {
     "name": "stdout",
     "output_type": "stream",
     "text": [
      "Model: \"sequential_15\"\n",
      "_________________________________________________________________\n",
      "Layer (type)                 Output Shape              Param #   \n",
      "=================================================================\n",
      "lstm_15 (LSTM)               (None, 8)                 320       \n",
      "_________________________________________________________________\n",
      "dense_15 (Dense)             (None, 5)                 45        \n",
      "=================================================================\n",
      "Total params: 365\n",
      "Trainable params: 365\n",
      "Non-trainable params: 0\n",
      "_________________________________________________________________\n"
     ]
    }
   ],
   "source": [
    "history_size = 50\n",
    "target_size = 5\n",
    "ds_train, ds_test = prepare_data(df_flu['wili'].values, df_flu['state'].values,\n",
    "                                 history_size=history_size, target_size=target_size)\n",
    "lstm2 = make_simple_lstm(history_length=history_size, target_length=target_size)\n",
    "lstm2.summary()"
   ]
  },
  {
   "cell_type": "code",
   "execution_count": 218,
   "metadata": {
    "ExecuteTime": {
     "end_time": "2020-05-04T04:42:19.402513Z",
     "start_time": "2020-05-04T04:41:32.017266Z"
    }
   },
   "outputs": [
    {
     "name": "stdout",
     "output_type": "stream",
     "text": [
      "Train for 50 steps, validate for 50 steps\n",
      "Epoch 1/25\n",
      "50/50 [==============================] - 2s 36ms/step - loss: 2.4960 - val_loss: 2.3213\n",
      "Epoch 2/25\n",
      "50/50 [==============================] - 2s 36ms/step - loss: 2.2105 - val_loss: 2.0801\n",
      "Epoch 3/25\n",
      "50/50 [==============================] - 2s 36ms/step - loss: 2.0227 - val_loss: 1.8564\n",
      "Epoch 4/25\n",
      "50/50 [==============================] - 2s 35ms/step - loss: 1.7507 - val_loss: 1.6422\n",
      "Epoch 5/25\n",
      "50/50 [==============================] - 2s 33ms/step - loss: 1.5356 - val_loss: 1.4219\n",
      "Epoch 6/25\n",
      "50/50 [==============================] - 2s 34ms/step - loss: 1.3718 - val_loss: 1.2614\n",
      "Epoch 7/25\n",
      "50/50 [==============================] - 2s 37ms/step - loss: 1.1917 - val_loss: 1.1213\n",
      "Epoch 8/25\n",
      "50/50 [==============================] - 2s 40ms/step - loss: 1.0889 - val_loss: 1.0132\n",
      "Epoch 9/25\n",
      "50/50 [==============================] - 2s 38ms/step - loss: 0.9775 - val_loss: 0.9288\n",
      "Epoch 10/25\n",
      "50/50 [==============================] - 2s 36ms/step - loss: 0.9155 - val_loss: 0.8495\n",
      "Epoch 11/25\n",
      "50/50 [==============================] - 2s 40ms/step - loss: 0.8316 - val_loss: 0.7792\n",
      "Epoch 12/25\n",
      "50/50 [==============================] - 2s 39ms/step - loss: 0.7538 - val_loss: 0.7140\n",
      "Epoch 13/25\n",
      "50/50 [==============================] - 2s 36ms/step - loss: 0.6896 - val_loss: 0.6502\n",
      "Epoch 14/25\n",
      "50/50 [==============================] - 2s 36ms/step - loss: 0.6401 - val_loss: 0.5899\n",
      "Epoch 15/25\n",
      "50/50 [==============================] - 2s 36ms/step - loss: 0.5749 - val_loss: 0.5530\n",
      "Epoch 16/25\n",
      "50/50 [==============================] - 2s 36ms/step - loss: 0.5374 - val_loss: 0.5187\n",
      "Epoch 17/25\n",
      "50/50 [==============================] - 2s 34ms/step - loss: 0.5133 - val_loss: 0.4988\n",
      "Epoch 18/25\n",
      "50/50 [==============================] - 2s 35ms/step - loss: 0.4847 - val_loss: 0.4795\n",
      "Epoch 19/25\n",
      "50/50 [==============================] - 2s 41ms/step - loss: 0.4632 - val_loss: 0.4554\n",
      "Epoch 20/25\n",
      "50/50 [==============================] - 2s 43ms/step - loss: 0.4480 - val_loss: 0.4331\n",
      "Epoch 21/25\n",
      "50/50 [==============================] - 2s 41ms/step - loss: 0.4253 - val_loss: 0.4067\n",
      "Epoch 22/25\n",
      "50/50 [==============================] - 2s 46ms/step - loss: 0.3870 - val_loss: 0.3714\n",
      "Epoch 23/25\n",
      "50/50 [==============================] - 2s 44ms/step - loss: 0.3593 - val_loss: 0.3489\n",
      "Epoch 24/25\n",
      "50/50 [==============================] - 2s 40ms/step - loss: 0.3365 - val_loss: 0.3340\n",
      "Epoch 25/25\n",
      "50/50 [==============================] - 2s 37ms/step - loss: 0.3431 - val_loss: 0.3252\n"
     ]
    }
   ],
   "source": [
    "EPOCHS = 25\n",
    "STEPS_PER_EPOCH = 50\n",
    "history2 = lstm2.fit(ds_train, epochs=EPOCHS, validation_data=ds_test,\n",
    "                     steps_per_epoch=STEPS_PER_EPOCH,\n",
    "                     validation_steps=50)"
   ]
  },
  {
   "cell_type": "code",
   "execution_count": 220,
   "metadata": {
    "ExecuteTime": {
     "end_time": "2020-05-04T04:42:44.517567Z",
     "start_time": "2020-05-04T04:42:44.283824Z"
    }
   },
   "outputs": [
    {
     "data": {
      "image/png": "[encoded data removed]",
      "text/plain": [
       "<Figure size 432x288 with 1 Axes>"
      ]
     },
     "metadata": {
      "needs_background": "light"
     },
     "output_type": "display_data"
    }
   ],
   "source": [
    "plotting.plot_history(history2)"
   ]
  },
  {
   "cell_type": "code",
   "execution_count": 258,
   "metadata": {
    "ExecuteTime": {
     "end_time": "2020-05-04T04:46:40.861137Z",
     "start_time": "2020-05-04T04:46:40.572393Z"
    }
   },
   "outputs": [
    {
     "data": {
      "image/png": "[encoded data removed]",
      "text/plain": [
       "<Figure size 432x288 with 1 Axes>"
      ]
     },
     "metadata": {
      "needs_background": "light"
     },
     "output_type": "display_data"
    }
   ],
   "source": [
    "plot_model_pred(lstm2, ds_test)"
   ]
  },
  {
   "cell_type": "markdown",
   "metadata": {},
   "source": [
    "## Adding a pre-output dense layer and more hidden nodes"
   ]
  },
  {
   "cell_type": "code",
   "execution_count": 283,
   "metadata": {
    "ExecuteTime": {
     "end_time": "2020-05-04T05:01:57.829193Z",
     "start_time": "2020-05-04T05:01:57.425840Z"
    }
   },
   "outputs": [
    {
     "name": "stdout",
     "output_type": "stream",
     "text": [
      "Model: \"sequential_16\"\n",
      "_________________________________________________________________\n",
      "Layer (type)                 Output Shape              Param #   \n",
      "=================================================================\n",
      "lstm_16 (LSTM)               (None, 16)                1152      \n",
      "_________________________________________________________________\n",
      "dense_16 (Dense)             (None, 32)                544       \n",
      "_________________________________________________________________\n",
      "dense_17 (Dense)             (None, 5)                 165       \n",
      "=================================================================\n",
      "Total params: 1,861\n",
      "Trainable params: 1,861\n",
      "Non-trainable params: 0\n",
      "_________________________________________________________________\n"
     ]
    }
   ],
   "source": [
    "history_size = 50\n",
    "target_size = 5\n",
    "hidden_size = 16\n",
    "pre_output_dense_size = 32\n",
    "lstm3 = make_simple_lstm(history_length=history_size, target_length=target_size,\n",
    "                         hidden_size=hidden_size, pre_output_dense_size=pre_output_dense_size)\n",
    "lstm3.summary()"
   ]
  },
  {
   "cell_type": "code",
   "execution_count": 284,
   "metadata": {
    "ExecuteTime": {
     "end_time": "2020-05-04T05:02:52.917891Z",
     "start_time": "2020-05-04T05:01:58.371235Z"
    }
   },
   "outputs": [
    {
     "name": "stdout",
     "output_type": "stream",
     "text": [
      "Train for 50 steps, validate for 50 steps\n",
      "Epoch 1/25\n",
      "50/50 [==============================] - 6s 115ms/step - loss: 2.4084 - val_loss: 1.6354\n",
      "Epoch 2/25\n",
      "50/50 [==============================] - 2s 39ms/step - loss: 1.2625 - val_loss: 0.9941\n",
      "Epoch 3/25\n",
      "50/50 [==============================] - 2s 38ms/step - loss: 0.8098 - val_loss: 0.6553\n",
      "Epoch 4/25\n",
      "50/50 [==============================] - 2s 39ms/step - loss: 0.5474 - val_loss: 0.4403\n",
      "Epoch 5/25\n",
      "50/50 [==============================] - 2s 39ms/step - loss: 0.4032 - val_loss: 0.3463\n",
      "Epoch 6/25\n",
      "50/50 [==============================] - 3s 51ms/step - loss: 0.2882 - val_loss: 0.2677\n",
      "Epoch 7/25\n",
      "50/50 [==============================] - 2s 40ms/step - loss: 0.2504 - val_loss: 0.2549\n",
      "Epoch 8/25\n",
      "50/50 [==============================] - 2s 39ms/step - loss: 0.2612 - val_loss: 0.2338\n",
      "Epoch 9/25\n",
      "50/50 [==============================] - 2s 40ms/step - loss: 0.2256 - val_loss: 0.2265\n",
      "Epoch 10/25\n",
      "50/50 [==============================] - 2s 40ms/step - loss: 0.2259 - val_loss: 0.2235\n",
      "Epoch 11/25\n",
      "50/50 [==============================] - 2s 39ms/step - loss: 0.2168 - val_loss: 0.2173\n",
      "Epoch 12/25\n",
      "50/50 [==============================] - 2s 38ms/step - loss: 0.2157 - val_loss: 0.2119\n",
      "Epoch 13/25\n",
      "50/50 [==============================] - 2s 38ms/step - loss: 0.2176 - val_loss: 0.2131\n",
      "Epoch 14/25\n",
      "50/50 [==============================] - 2s 39ms/step - loss: 0.2065 - val_loss: 0.2057\n",
      "Epoch 15/25\n",
      "50/50 [==============================] - 2s 38ms/step - loss: 0.2039 - val_loss: 0.2093\n",
      "Epoch 16/25\n",
      "50/50 [==============================] - 2s 38ms/step - loss: 0.2016 - val_loss: 0.1978\n",
      "Epoch 17/25\n",
      "50/50 [==============================] - 2s 38ms/step - loss: 0.1980 - val_loss: 0.1951\n",
      "Epoch 18/25\n",
      "50/50 [==============================] - 2s 44ms/step - loss: 0.1925 - val_loss: 0.1954\n",
      "Epoch 19/25\n",
      "50/50 [==============================] - 2s 46ms/step - loss: 0.1897 - val_loss: 0.1897\n",
      "Epoch 20/25\n",
      "50/50 [==============================] - 2s 42ms/step - loss: 0.1885 - val_loss: 0.1841\n",
      "Epoch 21/25\n",
      "50/50 [==============================] - 2s 42ms/step - loss: 0.1867 - val_loss: 0.1842\n",
      "Epoch 22/25\n",
      "50/50 [==============================] - 2s 40ms/step - loss: 0.1853 - val_loss: 0.1834\n",
      "Epoch 23/25\n",
      "50/50 [==============================] - 2s 41ms/step - loss: 0.1819 - val_loss: 0.1854\n",
      "Epoch 24/25\n",
      "50/50 [==============================] - 2s 46ms/step - loss: 0.1774 - val_loss: 0.1755\n",
      "Epoch 25/25\n",
      "50/50 [==============================] - 2s 38ms/step - loss: 0.1781 - val_loss: 0.1770\n"
     ]
    }
   ],
   "source": [
    "EPOCHS = 25\n",
    "STEPS_PER_EPOCH = 50\n",
    "history3 = lstm3.fit(ds_train, epochs=EPOCHS, validation_data=ds_test,\n",
    "                     steps_per_epoch=STEPS_PER_EPOCH,\n",
    "                     validation_steps=50)"
   ]
  },
  {
   "cell_type": "code",
   "execution_count": 285,
   "metadata": {
    "ExecuteTime": {
     "end_time": "2020-05-04T05:03:05.895592Z",
     "start_time": "2020-05-04T05:03:05.631851Z"
    }
   },
   "outputs": [
    {
     "data": {
      "image/png": "[encoded data removed]",
      "text/plain": [
       "<Figure size 432x288 with 1 Axes>"
      ]
     },
     "metadata": {
      "needs_background": "light"
     },
     "output_type": "display_data"
    }
   ],
   "source": [
    "plotting.plot_history(history3)"
   ]
  },
  {
   "cell_type": "code",
   "execution_count": 286,
   "metadata": {
    "ExecuteTime": {
     "end_time": "2020-05-04T05:03:09.431096Z",
     "start_time": "2020-05-04T05:03:07.711982Z"
    }
   },
   "outputs": [
    {
     "data": {
      "image/png": "[encoded data removed]",
      "text/plain": [
       "<Figure size 1296x432 with 3 Axes>"
      ]
     },
     "metadata": {
      "needs_background": "light"
     },
     "output_type": "display_data"
    }
   ],
   "source": [
    "fig, axs = plt.subplots(1, 3, figsize=(18, 6))\n",
    "for ax in axs:\n",
    "    plot_model_pred(lstm3, ds_test, ax=ax)"
   ]
  },
  {
   "cell_type": "code",
   "execution_count": null,
   "metadata": {},
   "outputs": [],
   "source": []
  }
 ],
 "metadata": {
  "kernelspec": {
   "display_name": "Python 3",
   "language": "python",
   "name": "python3"
  },
  "language_info": {
   "codemirror_mode": {
    "name": "ipython",
    "version": 3
   },
   "file_extension": ".py",
   "mimetype": "text/x-python",
   "name": "python",
   "nbconvert_exporter": "python",
   "pygments_lexer": "ipython3",
   "version": "3.7.6"
  },
  "varInspector": {
   "cols": {
    "lenName": 16,
    "lenType": 16,
    "lenVar": 40
   },
   "kernels_config": {
    "python": {
     "delete_cmd_postfix": "",
     "delete_cmd_prefix": "del ",
     "library": "var_list.py",
     "varRefreshCmd": "print(var_dic_list())"
    },
    "r": {
     "delete_cmd_postfix": ") ",
     "delete_cmd_prefix": "rm(",
     "library": "var_list.r",
     "varRefreshCmd": "cat(var_dic_list()) "
    }
   },
   "types_to_exclude": [
    "module",
    "function",
    "builtin_function_or_method",
    "instance",
    "_Feature"
   ],
   "window_display": false
  }
 },
 "nbformat": 4,
 "nbformat_minor": 4
}
