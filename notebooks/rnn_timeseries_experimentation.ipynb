{
 "cells": [
  {
   "cell_type": "code",
   "execution_count": 38,
   "metadata": {
    "ExecuteTime": {
     "end_time": "2020-05-04T03:33:41.196566Z",
     "start_time": "2020-05-04T03:33:41.026009Z"
    }
   },
   "outputs": [
    {
     "name": "stdout",
     "output_type": "stream",
     "text": [
      "The autoreload extension is already loaded. To reload it, use:\n",
      "  %reload_ext autoreload\n"
     ]
    }
   ],
   "source": [
    "import re\n",
    "from tqdm.notebook import tqdm\n",
    "\n",
    "from IPython.display import display\n",
    "\n",
    "import pandas as pd\n",
    "import numpy as np\n",
    "import matplotlib.pyplot as plt\n",
    "from sklearn.model_selection import train_test_split\n",
    "\n",
    "import tensorflow as tf\n",
    "from tensorflow.keras import layers\n",
    "\n",
    "from covid_flu import config, utils, time_series, plotting\n",
    "\n",
    "%load_ext autoreload\n",
    "%autoreload 2\n",
    "%matplotlib inline"
   ]
  },
  {
   "cell_type": "code",
   "execution_count": 3,
   "metadata": {
    "ExecuteTime": {
     "end_time": "2020-05-04T03:03:07.999458Z",
     "start_time": "2020-05-04T03:03:07.730490Z"
    }
   },
   "outputs": [
    {
     "data": {
      "text/html": [
       "<div>\n",
       "<style scoped>\n",
       "    .dataframe tbody tr th:only-of-type {\n",
       "        vertical-align: middle;\n",
       "    }\n",
       "\n",
       "    .dataframe tbody tr th {\n",
       "        vertical-align: top;\n",
       "    }\n",
       "\n",
       "    .dataframe thead th {\n",
       "        text-align: right;\n",
       "    }\n",
       "</style>\n",
       "<table border=\"1\" class=\"dataframe\">\n",
       "  <thead>\n",
       "    <tr style=\"text-align: right;\">\n",
       "      <th></th>\n",
       "      <th>time</th>\n",
       "      <th>wili</th>\n",
       "      <th>state</th>\n",
       "    </tr>\n",
       "  </thead>\n",
       "  <tbody>\n",
       "    <tr>\n",
       "      <th>0</th>\n",
       "      <td>2010-40</td>\n",
       "      <td>2.13477</td>\n",
       "      <td>Alabama</td>\n",
       "    </tr>\n",
       "    <tr>\n",
       "      <th>1</th>\n",
       "      <td>2010-41</td>\n",
       "      <td>2.05999</td>\n",
       "      <td>Alabama</td>\n",
       "    </tr>\n",
       "    <tr>\n",
       "      <th>2</th>\n",
       "      <td>2010-42</td>\n",
       "      <td>1.94224</td>\n",
       "      <td>Alabama</td>\n",
       "    </tr>\n",
       "    <tr>\n",
       "      <th>3</th>\n",
       "      <td>2010-43</td>\n",
       "      <td>2.27650</td>\n",
       "      <td>Alabama</td>\n",
       "    </tr>\n",
       "    <tr>\n",
       "      <th>4</th>\n",
       "      <td>2010-44</td>\n",
       "      <td>2.83371</td>\n",
       "      <td>Alabama</td>\n",
       "    </tr>\n",
       "  </tbody>\n",
       "</table>\n",
       "</div>"
      ],
      "text/plain": [
       "      time     wili    state\n",
       "0  2010-40  2.13477  Alabama\n",
       "1  2010-41  2.05999  Alabama\n",
       "2  2010-42  1.94224  Alabama\n",
       "3  2010-43  2.27650  Alabama\n",
       "4  2010-44  2.83371  Alabama"
      ]
     },
     "metadata": {},
     "output_type": "display_data"
    },
    {
     "data": {
      "text/html": [
       "<div>\n",
       "<style scoped>\n",
       "    .dataframe tbody tr th:only-of-type {\n",
       "        vertical-align: middle;\n",
       "    }\n",
       "\n",
       "    .dataframe tbody tr th {\n",
       "        vertical-align: top;\n",
       "    }\n",
       "\n",
       "    .dataframe thead th {\n",
       "        text-align: right;\n",
       "    }\n",
       "</style>\n",
       "<table border=\"1\" class=\"dataframe\">\n",
       "  <thead>\n",
       "    <tr style=\"text-align: right;\">\n",
       "      <th></th>\n",
       "      <th>time</th>\n",
       "      <th>wili</th>\n",
       "      <th>state</th>\n",
       "    </tr>\n",
       "  </thead>\n",
       "  <tbody>\n",
       "    <tr>\n",
       "      <th>456</th>\n",
       "      <td>2019-27</td>\n",
       "      <td>0.280899</td>\n",
       "      <td>Wyoming</td>\n",
       "    </tr>\n",
       "    <tr>\n",
       "      <th>457</th>\n",
       "      <td>2019-28</td>\n",
       "      <td>0.166021</td>\n",
       "      <td>Wyoming</td>\n",
       "    </tr>\n",
       "    <tr>\n",
       "      <th>458</th>\n",
       "      <td>2019-29</td>\n",
       "      <td>0.000100</td>\n",
       "      <td>Wyoming</td>\n",
       "    </tr>\n",
       "    <tr>\n",
       "      <th>459</th>\n",
       "      <td>2019-30</td>\n",
       "      <td>0.000100</td>\n",
       "      <td>Wyoming</td>\n",
       "    </tr>\n",
       "    <tr>\n",
       "      <th>460</th>\n",
       "      <td>2019-31</td>\n",
       "      <td>0.000100</td>\n",
       "      <td>Wyoming</td>\n",
       "    </tr>\n",
       "  </tbody>\n",
       "</table>\n",
       "</div>"
      ],
      "text/plain": [
       "        time      wili    state\n",
       "456  2019-27  0.280899  Wyoming\n",
       "457  2019-28  0.166021  Wyoming\n",
       "458  2019-29  0.000100  Wyoming\n",
       "459  2019-30  0.000100  Wyoming\n",
       "460  2019-31  0.000100  Wyoming"
      ]
     },
     "metadata": {},
     "output_type": "display_data"
    }
   ],
   "source": [
    "df_flu = utils.load_flu_data()\n",
    "display(df_flu.head())\n",
    "display(df_flu.tail())"
   ]
  },
  {
   "cell_type": "markdown",
   "metadata": {},
   "source": [
    "## Simple RNN model: predicting `d` days from a fixed input length"
   ]
  },
  {
   "cell_type": "code",
   "execution_count": 23,
   "metadata": {
    "ExecuteTime": {
     "end_time": "2020-05-04T03:28:27.648007Z",
     "start_time": "2020-05-04T03:28:27.166225Z"
    }
   },
   "outputs": [],
   "source": [
    "# Preparing data\n",
    "HISTORY_SIZE = 25\n",
    "TARGET_SIZE = 1\n",
    "\n",
    "X_all, y_all = [], []\n",
    "for state in df_flu['state'].unique():\n",
    "    subset = df_flu.query('state == @state')['wili'].values\n",
    "    ts_len = len(subset)\n",
    "    for i in range(ts_len - HISTORY_SIZE - TARGET_SIZE):\n",
    "        hist, trg = time_series.prepare_univariate_time_series(subset, HISTORY_SIZE, TARGET_SIZE, offset=i)\n",
    "        X_all.append(hist)\n",
    "        y_all.append(trg)\n",
    "\n",
    "X_all = np.stack(X_all, axis=0)\n",
    "y_all = np.concatenate(y_all)"
   ]
  },
  {
   "cell_type": "code",
   "execution_count": 24,
   "metadata": {
    "ExecuteTime": {
     "end_time": "2020-05-04T03:28:28.191979Z",
     "start_time": "2020-05-04T03:28:28.125743Z"
    }
   },
   "outputs": [
    {
     "data": {
      "text/plain": [
       "(22847, 25, 1)"
      ]
     },
     "execution_count": 24,
     "metadata": {},
     "output_type": "execute_result"
    }
   ],
   "source": [
    "X_all.shape"
   ]
  },
  {
   "cell_type": "code",
   "execution_count": 25,
   "metadata": {
    "ExecuteTime": {
     "end_time": "2020-05-04T03:28:30.309085Z",
     "start_time": "2020-05-04T03:28:30.241480Z"
    }
   },
   "outputs": [],
   "source": [
    "X_train, X_test, y_train, y_test = train_test_split(X_all, y_all, test_size=0.2)"
   ]
  },
  {
   "cell_type": "code",
   "execution_count": 26,
   "metadata": {
    "ExecuteTime": {
     "end_time": "2020-05-04T03:28:31.353762Z",
     "start_time": "2020-05-04T03:28:31.290027Z"
    }
   },
   "outputs": [
    {
     "data": {
      "text/plain": [
       "(18277, 4570)"
      ]
     },
     "execution_count": 26,
     "metadata": {},
     "output_type": "execute_result"
    }
   ],
   "source": [
    "len(X_train), len(X_test)"
   ]
  },
  {
   "cell_type": "code",
   "execution_count": 35,
   "metadata": {
    "ExecuteTime": {
     "end_time": "2020-05-04T03:30:25.809500Z",
     "start_time": "2020-05-04T03:30:25.738352Z"
    }
   },
   "outputs": [],
   "source": [
    "# Processing with tensorflow\n",
    "BATCH_SIZE = 256\n",
    "BUFFER_SIZE = 1000\n",
    "\n",
    "ds_train = tf.data.Dataset.from_tensor_slices((X_train, y_train))\n",
    "ds_train = ds_train.cache().shuffle(BUFFER_SIZE).batch(BATCH_SIZE).repeat()\n",
    "\n",
    "ds_test = tf.data.Dataset.from_tensor_slices((X_test, y_test))\n",
    "ds_test = ds_test.cache().shuffle(BUFFER_SIZE).batch(BATCH_SIZE).repeat()"
   ]
  },
  {
   "cell_type": "markdown",
   "metadata": {},
   "source": [
    "### Constructing the RNN"
   ]
  },
  {
   "cell_type": "code",
   "execution_count": 48,
   "metadata": {
    "ExecuteTime": {
     "end_time": "2020-05-04T03:36:53.770486Z",
     "start_time": "2020-05-04T03:36:53.404605Z"
    }
   },
   "outputs": [
    {
     "name": "stdout",
     "output_type": "stream",
     "text": [
      "Model: \"sequential_3\"\n",
      "_________________________________________________________________\n",
      "Layer (type)                 Output Shape              Param #   \n",
      "=================================================================\n",
      "lstm_3 (LSTM)                (None, 8)                 320       \n",
      "_________________________________________________________________\n",
      "dense_3 (Dense)              (None, 1)                 9         \n",
      "=================================================================\n",
      "Total params: 329\n",
      "Trainable params: 329\n",
      "Non-trainable params: 0\n",
      "_________________________________________________________________\n"
     ]
    }
   ],
   "source": [
    "simple_lstm = tf.keras.models.Sequential([\n",
    "    tf.keras.layers.LSTM(8, input_shape=X_train.shape[-2:]),\n",
    "    tf.keras.layers.Dense(1)\n",
    "])\n",
    "\n",
    "simple_lstm.compile(optimizer='adam', loss='mse')\n",
    "simple_lstm.summary()"
   ]
  },
  {
   "cell_type": "code",
   "execution_count": 49,
   "metadata": {
    "ExecuteTime": {
     "end_time": "2020-05-04T03:37:53.219477Z",
     "start_time": "2020-05-04T03:36:54.304407Z"
    }
   },
   "outputs": [
    {
     "name": "stdout",
     "output_type": "stream",
     "text": [
      "Train for 50 steps, validate for 50 steps\n",
      "Epoch 1/50\n",
      "50/50 [==============================] - 3s 67ms/step - loss: 4.9795 - val_loss: 4.0156\n",
      "Epoch 2/50\n",
      "50/50 [==============================] - 1s 22ms/step - loss: 3.4894 - val_loss: 2.9897\n",
      "Epoch 3/50\n",
      "50/50 [==============================] - 1s 20ms/step - loss: 2.7255 - val_loss: 2.3671\n",
      "Epoch 4/50\n",
      "50/50 [==============================] - 1s 20ms/step - loss: 2.1026 - val_loss: 1.9278\n",
      "Epoch 5/50\n",
      "50/50 [==============================] - 1s 20ms/step - loss: 1.8040 - val_loss: 1.6281\n",
      "Epoch 6/50\n",
      "50/50 [==============================] - 1s 19ms/step - loss: 1.5088 - val_loss: 1.4375\n",
      "Epoch 7/50\n",
      "50/50 [==============================] - 1s 19ms/step - loss: 1.3483 - val_loss: 1.2441\n",
      "Epoch 8/50\n",
      "50/50 [==============================] - 1s 20ms/step - loss: 1.2103 - val_loss: 1.1621\n",
      "Epoch 9/50\n",
      "50/50 [==============================] - 1s 21ms/step - loss: 1.0996 - val_loss: 1.0593\n",
      "Epoch 10/50\n",
      "50/50 [==============================] - 1s 20ms/step - loss: 1.0237 - val_loss: 0.9916\n",
      "Epoch 11/50\n",
      "50/50 [==============================] - 1s 20ms/step - loss: 0.9657 - val_loss: 0.9183\n",
      "Epoch 12/50\n",
      "50/50 [==============================] - 1s 19ms/step - loss: 0.9016 - val_loss: 0.8679\n",
      "Epoch 13/50\n",
      "50/50 [==============================] - 1s 20ms/step - loss: 0.8285 - val_loss: 0.8036\n",
      "Epoch 14/50\n",
      "50/50 [==============================] - 1s 24ms/step - loss: 0.7689 - val_loss: 0.7512\n",
      "Epoch 15/50\n",
      "50/50 [==============================] - 1s 25ms/step - loss: 0.7176 - val_loss: 0.6840\n",
      "Epoch 16/50\n",
      "50/50 [==============================] - 1s 21ms/step - loss: 0.6826 - val_loss: 0.6418\n",
      "Epoch 17/50\n",
      "50/50 [==============================] - 1s 21ms/step - loss: 0.6376 - val_loss: 0.6096\n",
      "Epoch 18/50\n",
      "50/50 [==============================] - 1s 19ms/step - loss: 0.5904 - val_loss: 0.5864\n",
      "Epoch 19/50\n",
      "50/50 [==============================] - 1s 21ms/step - loss: 0.5719 - val_loss: 0.5514\n",
      "Epoch 20/50\n",
      "50/50 [==============================] - 1s 21ms/step - loss: 0.5466 - val_loss: 0.5392\n",
      "Epoch 21/50\n",
      "50/50 [==============================] - 1s 25ms/step - loss: 0.5415 - val_loss: 0.5184\n",
      "Epoch 22/50\n",
      "50/50 [==============================] - 1s 24ms/step - loss: 0.5211 - val_loss: 0.5104\n",
      "Epoch 23/50\n",
      "50/50 [==============================] - 1s 23ms/step - loss: 0.4918 - val_loss: 0.4957\n",
      "Epoch 24/50\n",
      "50/50 [==============================] - 1s 19ms/step - loss: 0.4854 - val_loss: 0.4814\n",
      "Epoch 25/50\n",
      "50/50 [==============================] - 2s 31ms/step - loss: 0.4830 - val_loss: 0.4731\n",
      "Epoch 26/50\n",
      "50/50 [==============================] - 1s 30ms/step - loss: 0.4739 - val_loss: 0.4697\n",
      "Epoch 27/50\n",
      "50/50 [==============================] - 1s 30ms/step - loss: 0.4618 - val_loss: 0.4556\n",
      "Epoch 28/50\n",
      "50/50 [==============================] - 1s 25ms/step - loss: 0.4498 - val_loss: 0.4480\n",
      "Epoch 29/50\n",
      "50/50 [==============================] - 2s 32ms/step - loss: 0.4473 - val_loss: 0.4406\n",
      "Epoch 30/50\n",
      "50/50 [==============================] - 1s 29ms/step - loss: 0.4436 - val_loss: 0.4356\n",
      "Epoch 31/50\n",
      "50/50 [==============================] - 2s 31ms/step - loss: 0.4340 - val_loss: 0.4334\n",
      "Epoch 32/50\n",
      "50/50 [==============================] - 1s 26ms/step - loss: 0.4309 - val_loss: 0.4280\n",
      "Epoch 33/50\n",
      "50/50 [==============================] - 1s 26ms/step - loss: 0.4168 - val_loss: 0.4152\n",
      "Epoch 34/50\n",
      "50/50 [==============================] - 1s 19ms/step - loss: 0.4305 - val_loss: 0.4144\n",
      "Epoch 35/50\n",
      "50/50 [==============================] - 1s 19ms/step - loss: 0.4177 - val_loss: 0.4050\n",
      "Epoch 36/50\n",
      "50/50 [==============================] - 1s 19ms/step - loss: 0.4084 - val_loss: 0.3987\n",
      "Epoch 37/50\n",
      "50/50 [==============================] - 1s 20ms/step - loss: 0.4018 - val_loss: 0.4039\n",
      "Epoch 38/50\n",
      "50/50 [==============================] - 1s 20ms/step - loss: 0.4135 - val_loss: 0.4007\n",
      "Epoch 39/50\n",
      "50/50 [==============================] - 1s 20ms/step - loss: 0.4046 - val_loss: 0.3994\n",
      "Epoch 40/50\n",
      "50/50 [==============================] - 1s 22ms/step - loss: 0.3953 - val_loss: 0.4025\n",
      "Epoch 41/50\n",
      "50/50 [==============================] - 1s 28ms/step - loss: 0.3923 - val_loss: 0.3898\n",
      "Epoch 42/50\n",
      "50/50 [==============================] - 1s 18ms/step - loss: 0.3942 - val_loss: 0.3893\n",
      "Epoch 43/50\n",
      "50/50 [==============================] - 1s 20ms/step - loss: 0.4024 - val_loss: 0.3886\n",
      "Epoch 44/50\n",
      "50/50 [==============================] - 1s 20ms/step - loss: 0.3841 - val_loss: 0.3879\n",
      "Epoch 45/50\n",
      "50/50 [==============================] - 1s 21ms/step - loss: 0.3921 - val_loss: 0.3833\n",
      "Epoch 46/50\n",
      "50/50 [==============================] - 1s 27ms/step - loss: 0.3808 - val_loss: 0.3800\n",
      "Epoch 47/50\n",
      "50/50 [==============================] - 1s 21ms/step - loss: 0.3942 - val_loss: 0.3811\n",
      "Epoch 48/50\n",
      "50/50 [==============================] - 1s 27ms/step - loss: 0.3861 - val_loss: 0.3778\n",
      "Epoch 49/50\n",
      "50/50 [==============================] - 1s 25ms/step - loss: 0.3769 - val_loss: 0.3791\n",
      "Epoch 50/50\n",
      "50/50 [==============================] - 1s 20ms/step - loss: 0.3774 - val_loss: 0.3799\n"
     ]
    }
   ],
   "source": [
    "EPOCHS = 50\n",
    "STEPS_PER_EPOCH = 50\n",
    "history = simple_lstm.fit(ds_test, epochs=EPOCHS, validation_data=ds_test,\n",
    "                          steps_per_epoch=STEPS_PER_EPOCH,\n",
    "                          validation_steps=50)"
   ]
  },
  {
   "cell_type": "code",
   "execution_count": 50,
   "metadata": {
    "ExecuteTime": {
     "end_time": "2020-05-04T03:37:53.638615Z",
     "start_time": "2020-05-04T03:37:53.395626Z"
    }
   },
   "outputs": [
    {
     "data": {
      "image/png": "[encoded data removed]",
      "text/plain": [
       "<Figure size 432x288 with 1 Axes>"
      ]
     },
     "metadata": {
      "needs_background": "light"
     },
     "output_type": "display_data"
    }
   ],
   "source": [
    "plotting.plot_history(history)"
   ]
  },
  {
   "cell_type": "code",
   "execution_count": 58,
   "metadata": {
    "ExecuteTime": {
     "end_time": "2020-05-04T03:51:01.116838Z",
     "start_time": "2020-05-04T03:51:01.027484Z"
    }
   },
   "outputs": [],
   "source": [
    "def \n",
    "\n",
    "idx_eval = 1000\n",
    "X_eval = X_test[idx_eval].reshape(1, -1, 1)\n",
    "y_eval = y_test[idx_eval]\n",
    "y_pred = simple_lstm.predict(X_eval)"
   ]
  },
  {
   "cell_type": "code",
   "execution_count": 63,
   "metadata": {
    "ExecuteTime": {
     "end_time": "2020-05-04T03:52:35.099650Z",
     "start_time": "2020-05-04T03:52:34.822644Z"
    }
   },
   "outputs": [
    {
     "data": {
      "image/png": "[encoded data removed]",
      "text/plain": [
       "<Figure size 432x288 with 1 Axes>"
      ]
     },
     "metadata": {
      "needs_background": "light"
     },
     "output_type": "display_data"
    }
   ],
   "source": [
    "plotting.plot_time_series_prediction(X_eval, y_eval, y_pred)"
   ]
  },
  {
   "cell_type": "code",
   "execution_count": null,
   "metadata": {},
   "outputs": [],
   "source": []
  }
 ],
 "metadata": {
  "kernelspec": {
   "display_name": "Python 3",
   "language": "python",
   "name": "python3"
  },
  "varInspector": {
   "cols": {
    "lenName": 16,
    "lenType": 16,
    "lenVar": 40
   },
   "kernels_config": {
    "python": {
     "delete_cmd_postfix": "",
     "delete_cmd_prefix": "del ",
     "library": "var_list.py",
     "varRefreshCmd": "print(var_dic_list())"
    },
    "r": {
     "delete_cmd_postfix": ") ",
     "delete_cmd_prefix": "rm(",
     "library": "var_list.r",
     "varRefreshCmd": "cat(var_dic_list()) "
    }
   },
   "types_to_exclude": [
    "module",
    "function",
    "builtin_function_or_method",
    "instance",
    "_Feature"
   ],
   "window_display": false
  }
 },
 "nbformat": 4,
 "nbformat_minor": 4
}
